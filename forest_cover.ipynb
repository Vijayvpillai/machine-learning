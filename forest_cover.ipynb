{
 "cells": [
  {
   "cell_type": "code",
   "execution_count": null,
   "id": "8a2f2347",
   "metadata": {},
   "outputs": [],
   "source": [
    "import dask.dataframe as dd\n",
    "import plotly.express as px\n",
    "import numpy as np\n",
    "import pandas as pd"
   ]
  },
  {
   "cell_type": "code",
   "execution_count": null,
   "id": "aee46153",
   "metadata": {},
   "outputs": [],
   "source": [
    "df = dd.read_csv(\"covtype.data\").compute()"
   ]
  },
  {
   "cell_type": "code",
   "execution_count": null,
   "id": "1d41a3a2",
   "metadata": {},
   "outputs": [],
   "source": [
    "df.head()"
   ]
  },
  {
   "cell_type": "code",
   "execution_count": null,
   "id": "536a52de",
   "metadata": {},
   "outputs": [],
   "source": [
    "df.columns = [\"Elevation\", \"Aspect\", \"Slope\", \"Horizontal_d_to_hydrology\", \"vertical_d_to_hydrology\", \"Horizontal_Distance_To_Roadways\", \"Hillshade_9am\", \"Hillshade_Noon\", \"Hillshade_3pm\", \"Horizontal_Distance_To_Fire_Points\", \"Rawah Wilderness Area\",\"Neota Wilderness Area\", \"Comanche Peak Wilderness Area\", \"Cache la Poudre Wilderness Area\", \"2702\", \"2703\", \"2704\", \"2705\", \"2706\", \"2717\", \"3501\", \"3502\", \"4201\", \"4703\", \"4704\", \"4744\", \"4758\", \"5101\", \"5151\", \"6101\", \"6102\", \"6731\", \"7101\", \"7102\", \"7103\", \"7201\", \"7202\", \"7700\", \"7701\", \"7702\", \"7709\", \"7710\", \"7745\", \"7746\", \"7755\", \"7756\", \"7757\", \"7790\", \"8703\", \"8707\", \"8708\", \"8771\", \"8772\", \"8776\", \"Cover_Type\"]"
   ]
  },
  {
   "cell_type": "code",
   "execution_count": null,
   "id": "8f202e32",
   "metadata": {},
   "outputs": [],
   "source": [
    "pd.set_option('display.max_columns',None)"
   ]
  },
  {
   "cell_type": "code",
   "execution_count": null,
   "id": "3bba2908",
   "metadata": {},
   "outputs": [],
   "source": [
    "df"
   ]
  },
  {
   "cell_type": "code",
   "execution_count": null,
   "id": "188d22ba",
   "metadata": {},
   "outputs": [],
   "source": [
    "df.tail()"
   ]
  },
  {
   "cell_type": "code",
   "execution_count": null,
   "id": "5e10cb72",
   "metadata": {},
   "outputs": [],
   "source": [
    "df.describe()"
   ]
  },
  {
   "cell_type": "code",
   "execution_count": null,
   "id": "0458bdf7",
   "metadata": {},
   "outputs": [],
   "source": [
    "np.count_nonzero(df, axis = 0)"
   ]
  },
  {
   "cell_type": "code",
   "execution_count": null,
   "id": "6ca13a00",
   "metadata": {},
   "outputs": [],
   "source": [
    "dup = (df.duplicated() == True).sum()"
   ]
  },
  {
   "cell_type": "code",
   "execution_count": null,
   "id": "fd191864",
   "metadata": {},
   "outputs": [],
   "source": [
    "dup"
   ]
  },
  {
   "cell_type": "code",
   "execution_count": null,
   "id": "00983c39",
   "metadata": {},
   "outputs": [],
   "source": [
    "df1 = df.drop([ \"Rawah Wilderness Area\",\"Neota Wilderness Area\", \"Comanche Peak Wilderness Area\", \"Cache la Poudre Wilderness Area\", \"2702\", \"2703\", \"2704\", \"2705\", \"2706\", \"2717\", \"3501\", \"3502\", \"4201\", \"4703\", \"4704\", \"4744\", \"4758\", \"5101\", \"5151\", \"6101\", \"6102\", \"6731\", \"7101\", \"7102\", \"7103\", \"7201\", \"7202\", \"7700\", \"7701\", \"7702\", \"7709\", \"7710\", \"7745\", \"7746\", \"7755\", \"7756\", \"7757\", \"7790\", \"8703\", \"8707\", \"8708\", \"8771\", \"8772\", \"8776\", \"Cover_Type\"], axis = 1)"
   ]
  },
  {
   "cell_type": "code",
   "execution_count": null,
   "id": "bafb9ed2",
   "metadata": {},
   "outputs": [],
   "source": [
    "corr = df1.corr()"
   ]
  },
  {
   "cell_type": "code",
   "execution_count": null,
   "id": "d5e48a80",
   "metadata": {},
   "outputs": [],
   "source": [
    "corr.style.background_gradient(cmap = \"gist_stern\")"
   ]
  },
  {
   "cell_type": "code",
   "execution_count": null,
   "id": "d344af7b",
   "metadata": {},
   "outputs": [],
   "source": [
    "df[\"Cover_Type\"].replace({1:'Spruce/Fir', 2:'Lodgepole Pine', 3:'Ponderosa Pine', 4:'Cottonwood/Willow', 5:'Aspen', 6:'Douglas-fir', 7:'Krummholz'}, inplace=True)"
   ]
  },
  {
   "cell_type": "code",
   "execution_count": null,
   "id": "26b93bb3",
   "metadata": {},
   "outputs": [],
   "source": [
    "fig = px.histogram(df, x = \"Cover_Type\", color = \"Cover_Type\")"
   ]
  },
  {
   "cell_type": "code",
   "execution_count": null,
   "id": "b1c89a98",
   "metadata": {},
   "outputs": [],
   "source": [
    "fig.show()"
   ]
  },
  {
   "cell_type": "code",
   "execution_count": null,
   "id": "c9262dcb",
   "metadata": {},
   "outputs": [],
   "source": [
    "col = df1.columns\n",
    "for i in col:\n",
    "    fig = px.histogram(df, x = df[i], color = df[\"Cover_Type\"], marginal = \"rug\")\n",
    "    fig.show()"
   ]
  },
  {
   "cell_type": "code",
   "execution_count": null,
   "id": "18eea68b",
   "metadata": {},
   "outputs": [],
   "source": [
    "col = df1.columns\n",
    "for i in col:\n",
    "    fig = px.box(df,x=\"Cover_Type\",y=i,color=\"Cover_Type\")\n",
    "    fig.show()"
   ]
  }
 ],
 "metadata": {
  "kernelspec": {
   "display_name": "Python 3 (ipykernel)",
   "language": "python",
   "name": "python3"
  },
  "language_info": {
   "codemirror_mode": {
    "name": "ipython",
    "version": 3
   },
   "file_extension": ".py",
   "mimetype": "text/x-python",
   "name": "python",
   "nbconvert_exporter": "python",
   "pygments_lexer": "ipython3",
   "version": "3.9.4"
  }
 },
 "nbformat": 4,
 "nbformat_minor": 5
}
