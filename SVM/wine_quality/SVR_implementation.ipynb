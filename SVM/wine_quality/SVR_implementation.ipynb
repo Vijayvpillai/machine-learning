{
 "cells": [
  {
   "cell_type": "code",
   "execution_count": 2,
   "id": "e9d9cf3c",
   "metadata": {},
   "outputs": [],
   "source": [
    "import pandas as pd\n",
    "import numpy as np\n",
    "import matplotlib.pyplot as plt\n",
    "%matplotlib inline"
   ]
  },
  {
   "cell_type": "code",
   "execution_count": 3,
   "id": "4d99b2af",
   "metadata": {},
   "outputs": [],
   "source": [
    "df=pd.read_csv(\"Admission_Prediction.csv\")"
   ]
  },
  {
   "cell_type": "code",
   "execution_count": 4,
   "id": "811a3ff6",
   "metadata": {},
   "outputs": [
    {
     "data": {
      "text/html": [
       "<div>\n",
       "<style scoped>\n",
       "    .dataframe tbody tr th:only-of-type {\n",
       "        vertical-align: middle;\n",
       "    }\n",
       "\n",
       "    .dataframe tbody tr th {\n",
       "        vertical-align: top;\n",
       "    }\n",
       "\n",
       "    .dataframe thead th {\n",
       "        text-align: right;\n",
       "    }\n",
       "</style>\n",
       "<table border=\"1\" class=\"dataframe\">\n",
       "  <thead>\n",
       "    <tr style=\"text-align: right;\">\n",
       "      <th></th>\n",
       "      <th>Serial No.</th>\n",
       "      <th>GRE Score</th>\n",
       "      <th>TOEFL Score</th>\n",
       "      <th>University Rating</th>\n",
       "      <th>SOP</th>\n",
       "      <th>LOR</th>\n",
       "      <th>CGPA</th>\n",
       "      <th>Research</th>\n",
       "      <th>Chance of Admit</th>\n",
       "    </tr>\n",
       "  </thead>\n",
       "  <tbody>\n",
       "    <tr>\n",
       "      <th>0</th>\n",
       "      <td>1</td>\n",
       "      <td>337.0</td>\n",
       "      <td>118.0</td>\n",
       "      <td>4.0</td>\n",
       "      <td>4.5</td>\n",
       "      <td>4.5</td>\n",
       "      <td>9.65</td>\n",
       "      <td>1</td>\n",
       "      <td>0.92</td>\n",
       "    </tr>\n",
       "    <tr>\n",
       "      <th>1</th>\n",
       "      <td>2</td>\n",
       "      <td>324.0</td>\n",
       "      <td>107.0</td>\n",
       "      <td>4.0</td>\n",
       "      <td>4.0</td>\n",
       "      <td>4.5</td>\n",
       "      <td>8.87</td>\n",
       "      <td>1</td>\n",
       "      <td>0.76</td>\n",
       "    </tr>\n",
       "    <tr>\n",
       "      <th>2</th>\n",
       "      <td>3</td>\n",
       "      <td>NaN</td>\n",
       "      <td>104.0</td>\n",
       "      <td>3.0</td>\n",
       "      <td>3.0</td>\n",
       "      <td>3.5</td>\n",
       "      <td>8.00</td>\n",
       "      <td>1</td>\n",
       "      <td>0.72</td>\n",
       "    </tr>\n",
       "    <tr>\n",
       "      <th>3</th>\n",
       "      <td>4</td>\n",
       "      <td>322.0</td>\n",
       "      <td>110.0</td>\n",
       "      <td>3.0</td>\n",
       "      <td>3.5</td>\n",
       "      <td>2.5</td>\n",
       "      <td>8.67</td>\n",
       "      <td>1</td>\n",
       "      <td>0.80</td>\n",
       "    </tr>\n",
       "    <tr>\n",
       "      <th>4</th>\n",
       "      <td>5</td>\n",
       "      <td>314.0</td>\n",
       "      <td>103.0</td>\n",
       "      <td>2.0</td>\n",
       "      <td>2.0</td>\n",
       "      <td>3.0</td>\n",
       "      <td>8.21</td>\n",
       "      <td>0</td>\n",
       "      <td>0.65</td>\n",
       "    </tr>\n",
       "  </tbody>\n",
       "</table>\n",
       "</div>"
      ],
      "text/plain": [
       "   Serial No.  GRE Score  TOEFL Score  University Rating  SOP  LOR  CGPA  \\\n",
       "0           1      337.0        118.0                4.0  4.5  4.5  9.65   \n",
       "1           2      324.0        107.0                4.0  4.0  4.5  8.87   \n",
       "2           3        NaN        104.0                3.0  3.0  3.5  8.00   \n",
       "3           4      322.0        110.0                3.0  3.5  2.5  8.67   \n",
       "4           5      314.0        103.0                2.0  2.0  3.0  8.21   \n",
       "\n",
       "   Research  Chance of Admit  \n",
       "0         1             0.92  \n",
       "1         1             0.76  \n",
       "2         1             0.72  \n",
       "3         1             0.80  \n",
       "4         0             0.65  "
      ]
     },
     "execution_count": 4,
     "metadata": {},
     "output_type": "execute_result"
    }
   ],
   "source": [
    "df.head()"
   ]
  },
  {
   "cell_type": "markdown",
   "id": "e78db546",
   "metadata": {},
   "source": [
    "#check for missing values"
   ]
  },
  {
   "cell_type": "code",
   "execution_count": 5,
   "id": "108645d0",
   "metadata": {},
   "outputs": [
    {
     "data": {
      "text/plain": [
       "Serial No.            0\n",
       "GRE Score            15\n",
       "TOEFL Score          10\n",
       "University Rating    15\n",
       "SOP                   0\n",
       "LOR                   0\n",
       "CGPA                  0\n",
       "Research              0\n",
       "Chance of Admit       0\n",
       "dtype: int64"
      ]
     },
     "execution_count": 5,
     "metadata": {},
     "output_type": "execute_result"
    }
   ],
   "source": [
    "df.isnull().sum()"
   ]
  },
  {
   "cell_type": "raw",
   "id": "2aa70d8e",
   "metadata": {},
   "source": [
    "# handle missing values"
   ]
  },
  {
   "cell_type": "code",
   "execution_count": 18,
   "id": "ace8c3a1",
   "metadata": {},
   "outputs": [
    {
     "data": {
      "text/plain": [
       "0    3.0\n",
       "Name: University Rating, dtype: float64"
      ]
     },
     "execution_count": 18,
     "metadata": {},
     "output_type": "execute_result"
    }
   ],
   "source": [
    "df['University Rating'].mode()"
   ]
  },
  {
   "cell_type": "code",
   "execution_count": 19,
   "id": "9364ea59",
   "metadata": {},
   "outputs": [],
   "source": [
    "df['GRE Score'].fillna(df['GRE Score'].mean(), inplace = True)\n",
    "df['TOEFL Score'].fillna(df['TOEFL Score'].mean(), inplace = True)\n",
    "df['University Rating'].fillna(df['University Rating'].mode()[0], inplace = True)"
   ]
  },
  {
   "cell_type": "code",
   "execution_count": 20,
   "id": "5b78fedd",
   "metadata": {},
   "outputs": [
    {
     "name": "stdout",
     "output_type": "stream",
     "text": [
      "<class 'pandas.core.frame.DataFrame'>\n",
      "RangeIndex: 500 entries, 0 to 499\n",
      "Data columns (total 9 columns):\n",
      " #   Column             Non-Null Count  Dtype  \n",
      "---  ------             --------------  -----  \n",
      " 0   Serial No.         500 non-null    int64  \n",
      " 1   GRE Score          500 non-null    float64\n",
      " 2   TOEFL Score        500 non-null    float64\n",
      " 3   University Rating  500 non-null    float64\n",
      " 4   SOP                500 non-null    float64\n",
      " 5   LOR                500 non-null    float64\n",
      " 6   CGPA               500 non-null    float64\n",
      " 7   Research           500 non-null    int64  \n",
      " 8   Chance of Admit    500 non-null    float64\n",
      "dtypes: float64(7), int64(2)\n",
      "memory usage: 35.3 KB\n"
     ]
    }
   ],
   "source": [
    "df.info()"
   ]
  },
  {
   "cell_type": "code",
   "execution_count": 22,
   "id": "072894c5",
   "metadata": {},
   "outputs": [
    {
     "data": {
      "text/plain": [
       "Serial No.           0\n",
       "GRE Score            0\n",
       "TOEFL Score          0\n",
       "University Rating    0\n",
       "SOP                  0\n",
       "LOR                  0\n",
       "CGPA                 0\n",
       "Research             0\n",
       "Chance of Admit      0\n",
       "dtype: int64"
      ]
     },
     "execution_count": 22,
     "metadata": {},
     "output_type": "execute_result"
    }
   ],
   "source": [
    "# seeing that after imputation no column has missing values\n",
    "df.isna().sum()"
   ]
  },
  {
   "cell_type": "code",
   "execution_count": 23,
   "id": "036a075b",
   "metadata": {},
   "outputs": [],
   "source": [
    "x = df.drop(['Chance of Admit', 'Serial No.'], axis = 1)\n",
    "y = df['Chance of Admit']"
   ]
  },
  {
   "cell_type": "code",
   "execution_count": 24,
   "id": "d4eea0ee",
   "metadata": {},
   "outputs": [],
   "source": [
    "from sklearn.model_selection import train_test_split"
   ]
  },
  {
   "cell_type": "code",
   "execution_count": 25,
   "id": "4bdf8318",
   "metadata": {},
   "outputs": [],
   "source": [
    "train_x, test_x, train_y, test_y = train_test_split(x,y,test_size=0.33, random_state=33)"
   ]
  },
  {
   "cell_type": "code",
   "execution_count": 29,
   "id": "910d92a5",
   "metadata": {},
   "outputs": [
    {
     "data": {
      "text/plain": [
       "LinearRegression()"
      ]
     },
     "execution_count": 29,
     "metadata": {},
     "output_type": "execute_result"
    }
   ],
   "source": [
    "###Linear regression\n",
    "from sklearn.linear_model import LinearRegression,RidgeCV, LassoCV, ElasticNet\n",
    "regression = LinearRegression()\n",
    "regression.fit(train_x, train_y)"
   ]
  },
  {
   "cell_type": "code",
   "execution_count": 32,
   "id": "2dfa17c7",
   "metadata": {},
   "outputs": [],
   "source": [
    "predict_y = regression.predict(test_x)"
   ]
  },
  {
   "cell_type": "code",
   "execution_count": 33,
   "id": "ec3c857f",
   "metadata": {},
   "outputs": [
    {
     "data": {
      "text/plain": [
       "0.33996235009316134"
      ]
     },
     "execution_count": 33,
     "metadata": {},
     "output_type": "execute_result"
    }
   ],
   "source": [
    "from sklearn.metrics import mean_squared_error\n",
    "mean_squared_error(test_y,predict_y)*100"
   ]
  },
  {
   "cell_type": "code",
   "execution_count": 42,
   "id": "c742d755",
   "metadata": {},
   "outputs": [
    {
     "data": {
      "text/plain": [
       "0.8120324156608805"
      ]
     },
     "execution_count": 42,
     "metadata": {},
     "output_type": "execute_result"
    }
   ],
   "source": [
    "from sklearn.metrics import r2_score\n",
    "score = r2_score(test_y, predict_y)\n",
    "score"
   ]
  },
  {
   "cell_type": "markdown",
   "id": "4cf50fd5",
   "metadata": {},
   "source": [
    "# SVR implementation"
   ]
  },
  {
   "cell_type": "code",
   "execution_count": 36,
   "id": "4d1e7fc8",
   "metadata": {},
   "outputs": [],
   "source": [
    "from sklearn.svm import SVR"
   ]
  },
  {
   "cell_type": "code",
   "execution_count": 44,
   "id": "d22a90e0",
   "metadata": {},
   "outputs": [],
   "source": [
    "svr = SVR(kernel= \"linear\")"
   ]
  },
  {
   "cell_type": "code",
   "execution_count": 45,
   "id": "4df3a208",
   "metadata": {},
   "outputs": [
    {
     "data": {
      "text/plain": [
       "SVR(kernel='linear')"
      ]
     },
     "execution_count": 45,
     "metadata": {},
     "output_type": "execute_result"
    }
   ],
   "source": [
    "svr.fit(train_x, train_y)"
   ]
  },
  {
   "cell_type": "code",
   "execution_count": 46,
   "id": "6748cc41",
   "metadata": {},
   "outputs": [],
   "source": [
    "predict_y_svr = svr.predict(test_x)"
   ]
  },
  {
   "cell_type": "code",
   "execution_count": 47,
   "id": "0b7df3ba",
   "metadata": {},
   "outputs": [
    {
     "data": {
      "text/plain": [
       "0.4142904609310956"
      ]
     },
     "execution_count": 47,
     "metadata": {},
     "output_type": "execute_result"
    }
   ],
   "source": [
    "mean_squared_error(test_y, predict_y_svr)*100"
   ]
  },
  {
   "cell_type": "code",
   "execution_count": 48,
   "id": "36428ff5",
   "metadata": {},
   "outputs": [
    {
     "data": {
      "text/plain": [
       "0.7709358782388153"
      ]
     },
     "execution_count": 48,
     "metadata": {},
     "output_type": "execute_result"
    }
   ],
   "source": [
    "from sklearn.metrics import r2_score\n",
    "score = r2_score(test_y, predict_y_svr)\n",
    "score"
   ]
  },
  {
   "cell_type": "markdown",
   "id": "8c3c547b",
   "metadata": {},
   "source": [
    "# Hyperparameter tuning for SVR"
   ]
  },
  {
   "cell_type": "code",
   "execution_count": 49,
   "id": "6c8ae992",
   "metadata": {},
   "outputs": [],
   "source": [
    "param_grid={'C':[0.1,1,10,50,100,500], 'gamma':[1,0.5,0.1,0.01,0.001],\"kernel\":['linear','rbf','ploy','sigmoid']}"
   ]
  },
  {
   "cell_type": "code",
   "execution_count": 51,
   "id": "2d034c7b",
   "metadata": {},
   "outputs": [],
   "source": [
    "from sklearn.model_selection import GridSearchCV"
   ]
  },
  {
   "cell_type": "code",
   "execution_count": 52,
   "id": "434ea52b",
   "metadata": {},
   "outputs": [],
   "source": [
    "grid= GridSearchCV(SVR(),param_grid, verbose = 3)"
   ]
  },
  {
   "cell_type": "code",
   "execution_count": 53,
   "id": "3011be16",
   "metadata": {},
   "outputs": [
    {
     "name": "stdout",
     "output_type": "stream",
     "text": [
      "Fitting 5 folds for each of 120 candidates, totalling 600 fits\n",
      "[CV 1/5] END .....C=0.1, gamma=1, kernel=linear;, score=0.776 total time=   0.0s\n",
      "[CV 2/5] END .....C=0.1, gamma=1, kernel=linear;, score=0.760 total time=   0.0s\n",
      "[CV 3/5] END .....C=0.1, gamma=1, kernel=linear;, score=0.836 total time=   0.0s\n",
      "[CV 4/5] END .....C=0.1, gamma=1, kernel=linear;, score=0.636 total time=   0.0s\n",
      "[CV 5/5] END .....C=0.1, gamma=1, kernel=linear;, score=0.805 total time=   0.0s\n",
      "[CV 1/5] END ........C=0.1, gamma=1, kernel=rbf;, score=0.092 total time=   0.0s\n",
      "[CV 2/5] END ........C=0.1, gamma=1, kernel=rbf;, score=0.126 total time=   0.0s\n",
      "[CV 3/5] END ........C=0.1, gamma=1, kernel=rbf;, score=0.079 total time=   0.0s\n",
      "[CV 4/5] END ........C=0.1, gamma=1, kernel=rbf;, score=0.089 total time=   0.0s\n",
      "[CV 5/5] END ........C=0.1, gamma=1, kernel=rbf;, score=0.054 total time=   0.0s\n",
      "[CV 1/5] END .........C=0.1, gamma=1, kernel=ploy;, score=nan total time=   0.0s\n",
      "[CV 2/5] END .........C=0.1, gamma=1, kernel=ploy;, score=nan total time=   0.0s\n",
      "[CV 3/5] END .........C=0.1, gamma=1, kernel=ploy;, score=nan total time=   0.0s\n",
      "[CV 4/5] END .........C=0.1, gamma=1, kernel=ploy;, score=nan total time=   0.0s\n",
      "[CV 5/5] END .........C=0.1, gamma=1, kernel=ploy;, score=nan total time=   0.0s\n",
      "[CV 1/5] END ...C=0.1, gamma=1, kernel=sigmoid;, score=-0.012 total time=   0.0s\n",
      "[CV 2/5] END ...C=0.1, gamma=1, kernel=sigmoid;, score=-0.005 total time=   0.0s\n",
      "[CV 3/5] END ...C=0.1, gamma=1, kernel=sigmoid;, score=-0.000 total time=   0.0s\n",
      "[CV 4/5] END ...C=0.1, gamma=1, kernel=sigmoid;, score=-0.024 total time=   0.0s\n",
      "[CV 5/5] END ...C=0.1, gamma=1, kernel=sigmoid;, score=-0.007 total time=   0.0s\n",
      "[CV 1/5] END ...C=0.1, gamma=0.5, kernel=linear;, score=0.776 total time=   0.0s\n",
      "[CV 2/5] END ...C=0.1, gamma=0.5, kernel=linear;, score=0.760 total time=   0.0s\n",
      "[CV 3/5] END ...C=0.1, gamma=0.5, kernel=linear;, score=0.836 total time=   0.0s\n",
      "[CV 4/5] END ...C=0.1, gamma=0.5, kernel=linear;, score=0.636 total time=   0.0s\n",
      "[CV 5/5] END ...C=0.1, gamma=0.5, kernel=linear;, score=0.805 total time=   0.0s\n",
      "[CV 1/5] END ......C=0.1, gamma=0.5, kernel=rbf;, score=0.232 total time=   0.0s\n",
      "[CV 2/5] END ......C=0.1, gamma=0.5, kernel=rbf;, score=0.271 total time=   0.0s\n",
      "[CV 3/5] END ......C=0.1, gamma=0.5, kernel=rbf;, score=0.204 total time=   0.0s\n",
      "[CV 4/5] END ......C=0.1, gamma=0.5, kernel=rbf;, score=0.193 total time=   0.0s\n",
      "[CV 5/5] END ......C=0.1, gamma=0.5, kernel=rbf;, score=0.141 total time=   0.0s\n",
      "[CV 1/5] END .......C=0.1, gamma=0.5, kernel=ploy;, score=nan total time=   0.0s\n",
      "[CV 2/5] END .......C=0.1, gamma=0.5, kernel=ploy;, score=nan total time=   0.0s\n",
      "[CV 3/5] END .......C=0.1, gamma=0.5, kernel=ploy;, score=nan total time=   0.0s\n",
      "[CV 4/5] END .......C=0.1, gamma=0.5, kernel=ploy;, score=nan total time=   0.0s\n",
      "[CV 5/5] END .......C=0.1, gamma=0.5, kernel=ploy;, score=nan total time=   0.0s\n",
      "[CV 1/5] END .C=0.1, gamma=0.5, kernel=sigmoid;, score=-0.012 total time=   0.0s\n",
      "[CV 2/5] END .C=0.1, gamma=0.5, kernel=sigmoid;, score=-0.005 total time=   0.0s\n",
      "[CV 3/5] END .C=0.1, gamma=0.5, kernel=sigmoid;, score=-0.000 total time=   0.0s\n",
      "[CV 4/5] END .C=0.1, gamma=0.5, kernel=sigmoid;, score=-0.024 total time=   0.0s\n",
      "[CV 5/5] END .C=0.1, gamma=0.5, kernel=sigmoid;, score=-0.007 total time=   0.0s\n",
      "[CV 1/5] END ...C=0.1, gamma=0.1, kernel=linear;, score=0.776 total time=   0.0s\n",
      "[CV 2/5] END ...C=0.1, gamma=0.1, kernel=linear;, score=0.760 total time=   0.0s\n",
      "[CV 3/5] END ...C=0.1, gamma=0.1, kernel=linear;, score=0.836 total time=   0.0s\n",
      "[CV 4/5] END ...C=0.1, gamma=0.1, kernel=linear;, score=0.636 total time=   0.0s\n",
      "[CV 5/5] END ...C=0.1, gamma=0.1, kernel=linear;, score=0.805 total time=   0.0s\n",
      "[CV 1/5] END ......C=0.1, gamma=0.1, kernel=rbf;, score=0.550 total time=   0.0s\n",
      "[CV 2/5] END ......C=0.1, gamma=0.1, kernel=rbf;, score=0.623 total time=   0.0s\n",
      "[CV 3/5] END ......C=0.1, gamma=0.1, kernel=rbf;, score=0.598 total time=   0.0s\n",
      "[CV 4/5] END ......C=0.1, gamma=0.1, kernel=rbf;, score=0.380 total time=   0.0s\n",
      "[CV 5/5] END ......C=0.1, gamma=0.1, kernel=rbf;, score=0.415 total time=   0.0s\n",
      "[CV 1/5] END .......C=0.1, gamma=0.1, kernel=ploy;, score=nan total time=   0.0s\n",
      "[CV 2/5] END .......C=0.1, gamma=0.1, kernel=ploy;, score=nan total time=   0.0s\n",
      "[CV 3/5] END .......C=0.1, gamma=0.1, kernel=ploy;, score=nan total time=   0.0s\n",
      "[CV 4/5] END .......C=0.1, gamma=0.1, kernel=ploy;, score=nan total time=   0.0s\n",
      "[CV 5/5] END .......C=0.1, gamma=0.1, kernel=ploy;, score=nan total time=   0.0s\n",
      "[CV 1/5] END .C=0.1, gamma=0.1, kernel=sigmoid;, score=-0.012 total time=   0.0s\n",
      "[CV 2/5] END .C=0.1, gamma=0.1, kernel=sigmoid;, score=-0.005 total time=   0.0s\n",
      "[CV 3/5] END .C=0.1, gamma=0.1, kernel=sigmoid;, score=-0.000 total time=   0.0s\n",
      "[CV 4/5] END .C=0.1, gamma=0.1, kernel=sigmoid;, score=-0.024 total time=   0.0s\n",
      "[CV 5/5] END .C=0.1, gamma=0.1, kernel=sigmoid;, score=-0.007 total time=   0.0s\n",
      "[CV 1/5] END ..C=0.1, gamma=0.01, kernel=linear;, score=0.776 total time=   0.0s\n",
      "[CV 2/5] END ..C=0.1, gamma=0.01, kernel=linear;, score=0.760 total time=   0.0s\n",
      "[CV 3/5] END ..C=0.1, gamma=0.01, kernel=linear;, score=0.836 total time=   0.0s\n",
      "[CV 4/5] END ..C=0.1, gamma=0.01, kernel=linear;, score=0.636 total time=   0.0s\n",
      "[CV 5/5] END ..C=0.1, gamma=0.01, kernel=linear;, score=0.805 total time=   0.0s\n",
      "[CV 1/5] END .....C=0.1, gamma=0.01, kernel=rbf;, score=0.670 total time=   0.0s\n",
      "[CV 2/5] END .....C=0.1, gamma=0.01, kernel=rbf;, score=0.711 total time=   0.0s\n",
      "[CV 3/5] END .....C=0.1, gamma=0.01, kernel=rbf;, score=0.748 total time=   0.0s\n",
      "[CV 4/5] END .....C=0.1, gamma=0.01, kernel=rbf;, score=0.439 total time=   0.0s\n",
      "[CV 5/5] END .....C=0.1, gamma=0.01, kernel=rbf;, score=0.663 total time=   0.0s\n",
      "[CV 1/5] END ......C=0.1, gamma=0.01, kernel=ploy;, score=nan total time=   0.0s\n",
      "[CV 2/5] END ......C=0.1, gamma=0.01, kernel=ploy;, score=nan total time=   0.0s\n",
      "[CV 3/5] END ......C=0.1, gamma=0.01, kernel=ploy;, score=nan total time=   0.0s\n",
      "[CV 4/5] END ......C=0.1, gamma=0.01, kernel=ploy;, score=nan total time=   0.0s\n",
      "[CV 5/5] END ......C=0.1, gamma=0.01, kernel=ploy;, score=nan total time=   0.0s\n",
      "[CV 1/5] END C=0.1, gamma=0.01, kernel=sigmoid;, score=-0.012 total time=   0.0s\n",
      "[CV 2/5] END C=0.1, gamma=0.01, kernel=sigmoid;, score=-0.005 total time=   0.0s\n",
      "[CV 3/5] END C=0.1, gamma=0.01, kernel=sigmoid;, score=-0.000 total time=   0.0s\n",
      "[CV 4/5] END C=0.1, gamma=0.01, kernel=sigmoid;, score=-0.024 total time=   0.0s\n",
      "[CV 5/5] END C=0.1, gamma=0.01, kernel=sigmoid;, score=-0.007 total time=   0.0s\n",
      "[CV 1/5] END .C=0.1, gamma=0.001, kernel=linear;, score=0.776 total time=   0.0s\n",
      "[CV 2/5] END .C=0.1, gamma=0.001, kernel=linear;, score=0.760 total time=   0.0s\n",
      "[CV 3/5] END .C=0.1, gamma=0.001, kernel=linear;, score=0.836 total time=   0.0s\n",
      "[CV 4/5] END .C=0.1, gamma=0.001, kernel=linear;, score=0.636 total time=   0.0s\n",
      "[CV 5/5] END .C=0.1, gamma=0.001, kernel=linear;, score=0.805 total time=   0.0s\n",
      "[CV 1/5] END ....C=0.1, gamma=0.001, kernel=rbf;, score=0.681 total time=   0.0s\n",
      "[CV 2/5] END ....C=0.1, gamma=0.001, kernel=rbf;, score=0.693 total time=   0.0s\n",
      "[CV 3/5] END ....C=0.1, gamma=0.001, kernel=rbf;, score=0.763 total time=   0.0s\n",
      "[CV 4/5] END ....C=0.1, gamma=0.001, kernel=rbf;, score=0.452 total time=   0.0s\n",
      "[CV 5/5] END ....C=0.1, gamma=0.001, kernel=rbf;, score=0.665 total time=   0.0s\n",
      "[CV 1/5] END .....C=0.1, gamma=0.001, kernel=ploy;, score=nan total time=   0.0s\n",
      "[CV 2/5] END .....C=0.1, gamma=0.001, kernel=ploy;, score=nan total time=   0.0s\n",
      "[CV 3/5] END .....C=0.1, gamma=0.001, kernel=ploy;, score=nan total time=   0.0s\n",
      "[CV 4/5] END .....C=0.1, gamma=0.001, kernel=ploy;, score=nan total time=   0.0s\n",
      "[CV 5/5] END .....C=0.1, gamma=0.001, kernel=ploy;, score=nan total time=   0.0s\n",
      "[CV 1/5] END C=0.1, gamma=0.001, kernel=sigmoid;, score=-0.012 total time=   0.0s\n",
      "[CV 2/5] END C=0.1, gamma=0.001, kernel=sigmoid;, score=-0.005 total time=   0.0s\n",
      "[CV 3/5] END C=0.1, gamma=0.001, kernel=sigmoid;, score=-0.000 total time=   0.0s\n",
      "[CV 4/5] END C=0.1, gamma=0.001, kernel=sigmoid;, score=-0.024 total time=   0.0s\n",
      "[CV 5/5] END C=0.1, gamma=0.001, kernel=sigmoid;, score=-0.007 total time=   0.0s\n",
      "[CV 1/5] END .......C=1, gamma=1, kernel=linear;, score=0.799 total time=   0.0s\n"
     ]
    },
    {
     "name": "stdout",
     "output_type": "stream",
     "text": [
      "[CV 2/5] END .......C=1, gamma=1, kernel=linear;, score=0.773 total time=   0.0s\n",
      "[CV 3/5] END .......C=1, gamma=1, kernel=linear;, score=0.835 total time=   0.0s\n",
      "[CV 4/5] END .......C=1, gamma=1, kernel=linear;, score=0.639 total time=   0.0s\n",
      "[CV 5/5] END .......C=1, gamma=1, kernel=linear;, score=0.821 total time=   0.0s\n",
      "[CV 1/5] END ..........C=1, gamma=1, kernel=rbf;, score=0.124 total time=   0.0s\n",
      "[CV 2/5] END ..........C=1, gamma=1, kernel=rbf;, score=0.123 total time=   0.0s\n",
      "[CV 3/5] END ..........C=1, gamma=1, kernel=rbf;, score=0.093 total time=   0.0s\n",
      "[CV 4/5] END ..........C=1, gamma=1, kernel=rbf;, score=0.111 total time=   0.0s\n",
      "[CV 5/5] END ..........C=1, gamma=1, kernel=rbf;, score=0.064 total time=   0.0s\n",
      "[CV 1/5] END ...........C=1, gamma=1, kernel=ploy;, score=nan total time=   0.0s\n",
      "[CV 2/5] END ...........C=1, gamma=1, kernel=ploy;, score=nan total time=   0.0s\n",
      "[CV 3/5] END ...........C=1, gamma=1, kernel=ploy;, score=nan total time=   0.0s\n",
      "[CV 4/5] END ...........C=1, gamma=1, kernel=ploy;, score=nan total time=   0.0s\n",
      "[CV 5/5] END ...........C=1, gamma=1, kernel=ploy;, score=nan total time=   0.0s\n",
      "[CV 1/5] END .....C=1, gamma=1, kernel=sigmoid;, score=-0.012 total time=   0.0s\n",
      "[CV 2/5] END .....C=1, gamma=1, kernel=sigmoid;, score=-0.005 total time=   0.0s\n",
      "[CV 3/5] END .....C=1, gamma=1, kernel=sigmoid;, score=-0.000 total time=   0.0s\n",
      "[CV 4/5] END .....C=1, gamma=1, kernel=sigmoid;, score=-0.024 total time=   0.0s\n",
      "[CV 5/5] END .....C=1, gamma=1, kernel=sigmoid;, score=-0.007 total time=   0.0s\n",
      "[CV 1/5] END .....C=1, gamma=0.5, kernel=linear;, score=0.799 total time=   0.0s\n",
      "[CV 2/5] END .....C=1, gamma=0.5, kernel=linear;, score=0.773 total time=   0.0s\n",
      "[CV 3/5] END .....C=1, gamma=0.5, kernel=linear;, score=0.835 total time=   0.0s\n",
      "[CV 4/5] END .....C=1, gamma=0.5, kernel=linear;, score=0.639 total time=   0.0s\n",
      "[CV 5/5] END .....C=1, gamma=0.5, kernel=linear;, score=0.821 total time=   0.0s\n",
      "[CV 1/5] END ........C=1, gamma=0.5, kernel=rbf;, score=0.281 total time=   0.0s\n",
      "[CV 2/5] END ........C=1, gamma=0.5, kernel=rbf;, score=0.284 total time=   0.0s\n",
      "[CV 3/5] END ........C=1, gamma=0.5, kernel=rbf;, score=0.239 total time=   0.0s\n",
      "[CV 4/5] END ........C=1, gamma=0.5, kernel=rbf;, score=0.199 total time=   0.0s\n",
      "[CV 5/5] END ........C=1, gamma=0.5, kernel=rbf;, score=0.144 total time=   0.0s\n",
      "[CV 1/5] END .........C=1, gamma=0.5, kernel=ploy;, score=nan total time=   0.0s\n",
      "[CV 2/5] END .........C=1, gamma=0.5, kernel=ploy;, score=nan total time=   0.0s\n",
      "[CV 3/5] END .........C=1, gamma=0.5, kernel=ploy;, score=nan total time=   0.0s\n",
      "[CV 4/5] END .........C=1, gamma=0.5, kernel=ploy;, score=nan total time=   0.0s\n",
      "[CV 5/5] END .........C=1, gamma=0.5, kernel=ploy;, score=nan total time=   0.0s\n",
      "[CV 1/5] END ...C=1, gamma=0.5, kernel=sigmoid;, score=-0.012 total time=   0.0s\n",
      "[CV 2/5] END ...C=1, gamma=0.5, kernel=sigmoid;, score=-0.005 total time=   0.0s\n",
      "[CV 3/5] END ...C=1, gamma=0.5, kernel=sigmoid;, score=-0.000 total time=   0.0s\n",
      "[CV 4/5] END ...C=1, gamma=0.5, kernel=sigmoid;, score=-0.024 total time=   0.0s\n",
      "[CV 5/5] END ...C=1, gamma=0.5, kernel=sigmoid;, score=-0.007 total time=   0.0s\n",
      "[CV 1/5] END .....C=1, gamma=0.1, kernel=linear;, score=0.799 total time=   0.0s\n",
      "[CV 2/5] END .....C=1, gamma=0.1, kernel=linear;, score=0.773 total time=   0.0s\n",
      "[CV 3/5] END .....C=1, gamma=0.1, kernel=linear;, score=0.835 total time=   0.0s\n",
      "[CV 4/5] END .....C=1, gamma=0.1, kernel=linear;, score=0.639 total time=   0.0s\n",
      "[CV 5/5] END .....C=1, gamma=0.1, kernel=linear;, score=0.821 total time=   0.0s\n",
      "[CV 1/5] END ........C=1, gamma=0.1, kernel=rbf;, score=0.571 total time=   0.0s\n",
      "[CV 2/5] END ........C=1, gamma=0.1, kernel=rbf;, score=0.626 total time=   0.0s\n",
      "[CV 3/5] END ........C=1, gamma=0.1, kernel=rbf;, score=0.635 total time=   0.0s\n",
      "[CV 4/5] END ........C=1, gamma=0.1, kernel=rbf;, score=0.346 total time=   0.0s\n",
      "[CV 5/5] END ........C=1, gamma=0.1, kernel=rbf;, score=0.399 total time=   0.0s\n",
      "[CV 1/5] END .........C=1, gamma=0.1, kernel=ploy;, score=nan total time=   0.0s\n",
      "[CV 2/5] END .........C=1, gamma=0.1, kernel=ploy;, score=nan total time=   0.0s\n",
      "[CV 3/5] END .........C=1, gamma=0.1, kernel=ploy;, score=nan total time=   0.0s\n",
      "[CV 4/5] END .........C=1, gamma=0.1, kernel=ploy;, score=nan total time=   0.0s\n",
      "[CV 5/5] END .........C=1, gamma=0.1, kernel=ploy;, score=nan total time=   0.0s\n",
      "[CV 1/5] END ...C=1, gamma=0.1, kernel=sigmoid;, score=-0.012 total time=   0.0s\n",
      "[CV 2/5] END ...C=1, gamma=0.1, kernel=sigmoid;, score=-0.005 total time=   0.0s\n",
      "[CV 3/5] END ...C=1, gamma=0.1, kernel=sigmoid;, score=-0.000 total time=   0.0s\n",
      "[CV 4/5] END ...C=1, gamma=0.1, kernel=sigmoid;, score=-0.024 total time=   0.0s\n",
      "[CV 5/5] END ...C=1, gamma=0.1, kernel=sigmoid;, score=-0.007 total time=   0.0s\n",
      "[CV 1/5] END ....C=1, gamma=0.01, kernel=linear;, score=0.799 total time=   0.0s\n",
      "[CV 2/5] END ....C=1, gamma=0.01, kernel=linear;, score=0.773 total time=   0.0s\n",
      "[CV 3/5] END ....C=1, gamma=0.01, kernel=linear;, score=0.835 total time=   0.0s\n",
      "[CV 4/5] END ....C=1, gamma=0.01, kernel=linear;, score=0.639 total time=   0.0s\n",
      "[CV 5/5] END ....C=1, gamma=0.01, kernel=linear;, score=0.821 total time=   0.0s\n",
      "[CV 1/5] END .......C=1, gamma=0.01, kernel=rbf;, score=0.698 total time=   0.0s\n",
      "[CV 2/5] END .......C=1, gamma=0.01, kernel=rbf;, score=0.723 total time=   0.0s\n",
      "[CV 3/5] END .......C=1, gamma=0.01, kernel=rbf;, score=0.782 total time=   0.0s\n",
      "[CV 4/5] END .......C=1, gamma=0.01, kernel=rbf;, score=0.444 total time=   0.0s\n",
      "[CV 5/5] END .......C=1, gamma=0.01, kernel=rbf;, score=0.663 total time=   0.0s\n",
      "[CV 1/5] END ........C=1, gamma=0.01, kernel=ploy;, score=nan total time=   0.0s\n",
      "[CV 2/5] END ........C=1, gamma=0.01, kernel=ploy;, score=nan total time=   0.0s\n",
      "[CV 3/5] END ........C=1, gamma=0.01, kernel=ploy;, score=nan total time=   0.0s\n",
      "[CV 4/5] END ........C=1, gamma=0.01, kernel=ploy;, score=nan total time=   0.0s\n",
      "[CV 5/5] END ........C=1, gamma=0.01, kernel=ploy;, score=nan total time=   0.0s\n",
      "[CV 1/5] END ..C=1, gamma=0.01, kernel=sigmoid;, score=-0.012 total time=   0.0s\n",
      "[CV 2/5] END ..C=1, gamma=0.01, kernel=sigmoid;, score=-0.005 total time=   0.0s\n",
      "[CV 3/5] END ..C=1, gamma=0.01, kernel=sigmoid;, score=-0.000 total time=   0.0s\n",
      "[CV 4/5] END ..C=1, gamma=0.01, kernel=sigmoid;, score=-0.024 total time=   0.0s\n",
      "[CV 5/5] END ..C=1, gamma=0.01, kernel=sigmoid;, score=-0.007 total time=   0.0s\n",
      "[CV 1/5] END ...C=1, gamma=0.001, kernel=linear;, score=0.799 total time=   0.0s\n",
      "[CV 2/5] END ...C=1, gamma=0.001, kernel=linear;, score=0.773 total time=   0.0s\n",
      "[CV 3/5] END ...C=1, gamma=0.001, kernel=linear;, score=0.835 total time=   0.0s\n",
      "[CV 4/5] END ...C=1, gamma=0.001, kernel=linear;, score=0.639 total time=   0.0s\n",
      "[CV 5/5] END ...C=1, gamma=0.001, kernel=linear;, score=0.821 total time=   0.0s\n",
      "[CV 1/5] END ......C=1, gamma=0.001, kernel=rbf;, score=0.735 total time=   0.0s\n",
      "[CV 2/5] END ......C=1, gamma=0.001, kernel=rbf;, score=0.718 total time=   0.0s\n",
      "[CV 3/5] END ......C=1, gamma=0.001, kernel=rbf;, score=0.796 total time=   0.0s\n",
      "[CV 4/5] END ......C=1, gamma=0.001, kernel=rbf;, score=0.481 total time=   0.0s\n",
      "[CV 5/5] END ......C=1, gamma=0.001, kernel=rbf;, score=0.740 total time=   0.0s\n",
      "[CV 1/5] END .......C=1, gamma=0.001, kernel=ploy;, score=nan total time=   0.0s\n",
      "[CV 2/5] END .......C=1, gamma=0.001, kernel=ploy;, score=nan total time=   0.0s\n",
      "[CV 3/5] END .......C=1, gamma=0.001, kernel=ploy;, score=nan total time=   0.0s\n",
      "[CV 4/5] END .......C=1, gamma=0.001, kernel=ploy;, score=nan total time=   0.0s\n",
      "[CV 5/5] END .......C=1, gamma=0.001, kernel=ploy;, score=nan total time=   0.0s\n",
      "[CV 1/5] END .C=1, gamma=0.001, kernel=sigmoid;, score=-0.012 total time=   0.0s\n",
      "[CV 2/5] END .C=1, gamma=0.001, kernel=sigmoid;, score=-0.005 total time=   0.0s\n",
      "[CV 3/5] END .C=1, gamma=0.001, kernel=sigmoid;, score=-0.000 total time=   0.0s\n",
      "[CV 4/5] END .C=1, gamma=0.001, kernel=sigmoid;, score=-0.024 total time=   0.0s\n",
      "[CV 5/5] END .C=1, gamma=0.001, kernel=sigmoid;, score=-0.007 total time=   0.0s\n",
      "[CV 1/5] END .....C=10, gamma=1, kernel=linear;, score=-0.887 total time=   0.4s\n",
      "[CV 2/5] END .....C=10, gamma=1, kernel=linear;, score=-0.160 total time=   0.5s\n",
      "[CV 3/5] END .....C=10, gamma=1, kernel=linear;, score=-0.637 total time=   0.5s\n"
     ]
    },
    {
     "name": "stdout",
     "output_type": "stream",
     "text": [
      "[CV 4/5] END .....C=10, gamma=1, kernel=linear;, score=-2.039 total time=   0.4s\n",
      "[CV 5/5] END .....C=10, gamma=1, kernel=linear;, score=-2.067 total time=   0.7s\n",
      "[CV 1/5] END .........C=10, gamma=1, kernel=rbf;, score=0.124 total time=   0.0s\n",
      "[CV 2/5] END .........C=10, gamma=1, kernel=rbf;, score=0.123 total time=   0.0s\n",
      "[CV 3/5] END .........C=10, gamma=1, kernel=rbf;, score=0.093 total time=   0.0s\n",
      "[CV 4/5] END .........C=10, gamma=1, kernel=rbf;, score=0.111 total time=   0.0s\n",
      "[CV 5/5] END .........C=10, gamma=1, kernel=rbf;, score=0.064 total time=   0.0s\n",
      "[CV 1/5] END ..........C=10, gamma=1, kernel=ploy;, score=nan total time=   0.0s\n",
      "[CV 2/5] END ..........C=10, gamma=1, kernel=ploy;, score=nan total time=   0.0s\n",
      "[CV 3/5] END ..........C=10, gamma=1, kernel=ploy;, score=nan total time=   0.0s\n",
      "[CV 4/5] END ..........C=10, gamma=1, kernel=ploy;, score=nan total time=   0.0s\n",
      "[CV 5/5] END ..........C=10, gamma=1, kernel=ploy;, score=nan total time=   0.0s\n",
      "[CV 1/5] END ....C=10, gamma=1, kernel=sigmoid;, score=-0.012 total time=   0.0s\n",
      "[CV 2/5] END ....C=10, gamma=1, kernel=sigmoid;, score=-0.005 total time=   0.0s\n",
      "[CV 3/5] END ....C=10, gamma=1, kernel=sigmoid;, score=-0.000 total time=   0.0s\n",
      "[CV 4/5] END ....C=10, gamma=1, kernel=sigmoid;, score=-0.024 total time=   0.0s\n",
      "[CV 5/5] END ....C=10, gamma=1, kernel=sigmoid;, score=-0.007 total time=   0.0s\n",
      "[CV 1/5] END ...C=10, gamma=0.5, kernel=linear;, score=-0.887 total time=   0.4s\n",
      "[CV 2/5] END ...C=10, gamma=0.5, kernel=linear;, score=-0.160 total time=   0.5s\n",
      "[CV 3/5] END ...C=10, gamma=0.5, kernel=linear;, score=-0.637 total time=   0.5s\n",
      "[CV 4/5] END ...C=10, gamma=0.5, kernel=linear;, score=-2.039 total time=   0.4s\n",
      "[CV 5/5] END ...C=10, gamma=0.5, kernel=linear;, score=-2.067 total time=   0.7s\n",
      "[CV 1/5] END .......C=10, gamma=0.5, kernel=rbf;, score=0.281 total time=   0.0s\n",
      "[CV 2/5] END .......C=10, gamma=0.5, kernel=rbf;, score=0.284 total time=   0.0s\n",
      "[CV 3/5] END .......C=10, gamma=0.5, kernel=rbf;, score=0.239 total time=   0.0s\n",
      "[CV 4/5] END .......C=10, gamma=0.5, kernel=rbf;, score=0.199 total time=   0.0s\n",
      "[CV 5/5] END .......C=10, gamma=0.5, kernel=rbf;, score=0.144 total time=   0.0s\n",
      "[CV 1/5] END ........C=10, gamma=0.5, kernel=ploy;, score=nan total time=   0.0s\n",
      "[CV 2/5] END ........C=10, gamma=0.5, kernel=ploy;, score=nan total time=   0.0s\n",
      "[CV 3/5] END ........C=10, gamma=0.5, kernel=ploy;, score=nan total time=   0.0s\n",
      "[CV 4/5] END ........C=10, gamma=0.5, kernel=ploy;, score=nan total time=   0.0s\n",
      "[CV 5/5] END ........C=10, gamma=0.5, kernel=ploy;, score=nan total time=   0.0s\n",
      "[CV 1/5] END ..C=10, gamma=0.5, kernel=sigmoid;, score=-0.012 total time=   0.0s\n",
      "[CV 2/5] END ..C=10, gamma=0.5, kernel=sigmoid;, score=-0.005 total time=   0.0s\n",
      "[CV 3/5] END ..C=10, gamma=0.5, kernel=sigmoid;, score=-0.000 total time=   0.0s\n",
      "[CV 4/5] END ..C=10, gamma=0.5, kernel=sigmoid;, score=-0.024 total time=   0.0s\n",
      "[CV 5/5] END ..C=10, gamma=0.5, kernel=sigmoid;, score=-0.007 total time=   0.0s\n",
      "[CV 1/5] END ...C=10, gamma=0.1, kernel=linear;, score=-0.887 total time=   0.4s\n",
      "[CV 2/5] END ...C=10, gamma=0.1, kernel=linear;, score=-0.160 total time=   0.5s\n",
      "[CV 3/5] END ...C=10, gamma=0.1, kernel=linear;, score=-0.637 total time=   0.5s\n",
      "[CV 4/5] END ...C=10, gamma=0.1, kernel=linear;, score=-2.039 total time=   0.4s\n",
      "[CV 5/5] END ...C=10, gamma=0.1, kernel=linear;, score=-2.067 total time=   0.6s\n",
      "[CV 1/5] END .......C=10, gamma=0.1, kernel=rbf;, score=0.571 total time=   0.0s\n",
      "[CV 2/5] END .......C=10, gamma=0.1, kernel=rbf;, score=0.626 total time=   0.0s\n",
      "[CV 3/5] END .......C=10, gamma=0.1, kernel=rbf;, score=0.635 total time=   0.0s\n",
      "[CV 4/5] END .......C=10, gamma=0.1, kernel=rbf;, score=0.346 total time=   0.0s\n",
      "[CV 5/5] END .......C=10, gamma=0.1, kernel=rbf;, score=0.399 total time=   0.0s\n",
      "[CV 1/5] END ........C=10, gamma=0.1, kernel=ploy;, score=nan total time=   0.0s\n",
      "[CV 2/5] END ........C=10, gamma=0.1, kernel=ploy;, score=nan total time=   0.0s\n",
      "[CV 3/5] END ........C=10, gamma=0.1, kernel=ploy;, score=nan total time=   0.0s\n",
      "[CV 4/5] END ........C=10, gamma=0.1, kernel=ploy;, score=nan total time=   0.0s\n",
      "[CV 5/5] END ........C=10, gamma=0.1, kernel=ploy;, score=nan total time=   0.0s\n",
      "[CV 1/5] END ..C=10, gamma=0.1, kernel=sigmoid;, score=-0.012 total time=   0.0s\n",
      "[CV 2/5] END ..C=10, gamma=0.1, kernel=sigmoid;, score=-0.005 total time=   0.0s\n",
      "[CV 3/5] END ..C=10, gamma=0.1, kernel=sigmoid;, score=-0.000 total time=   0.0s\n",
      "[CV 4/5] END ..C=10, gamma=0.1, kernel=sigmoid;, score=-0.024 total time=   0.0s\n",
      "[CV 5/5] END ..C=10, gamma=0.1, kernel=sigmoid;, score=-0.007 total time=   0.0s\n",
      "[CV 1/5] END ..C=10, gamma=0.01, kernel=linear;, score=-0.887 total time=   0.4s\n",
      "[CV 2/5] END ..C=10, gamma=0.01, kernel=linear;, score=-0.160 total time=   0.5s\n",
      "[CV 3/5] END ..C=10, gamma=0.01, kernel=linear;, score=-0.637 total time=   0.4s\n",
      "[CV 4/5] END ..C=10, gamma=0.01, kernel=linear;, score=-2.039 total time=   0.3s\n",
      "[CV 5/5] END ..C=10, gamma=0.01, kernel=linear;, score=-2.067 total time=   0.6s\n",
      "[CV 1/5] END ......C=10, gamma=0.01, kernel=rbf;, score=0.662 total time=   0.0s\n",
      "[CV 2/5] END ......C=10, gamma=0.01, kernel=rbf;, score=0.735 total time=   0.0s\n",
      "[CV 3/5] END ......C=10, gamma=0.01, kernel=rbf;, score=0.722 total time=   0.0s\n",
      "[CV 4/5] END ......C=10, gamma=0.01, kernel=rbf;, score=0.383 total time=   0.0s\n",
      "[CV 5/5] END ......C=10, gamma=0.01, kernel=rbf;, score=0.567 total time=   0.0s\n",
      "[CV 1/5] END .......C=10, gamma=0.01, kernel=ploy;, score=nan total time=   0.0s\n",
      "[CV 2/5] END .......C=10, gamma=0.01, kernel=ploy;, score=nan total time=   0.0s\n",
      "[CV 3/5] END .......C=10, gamma=0.01, kernel=ploy;, score=nan total time=   0.0s\n",
      "[CV 4/5] END .......C=10, gamma=0.01, kernel=ploy;, score=nan total time=   0.0s\n",
      "[CV 5/5] END .......C=10, gamma=0.01, kernel=ploy;, score=nan total time=   0.0s\n",
      "[CV 1/5] END .C=10, gamma=0.01, kernel=sigmoid;, score=-0.012 total time=   0.0s\n",
      "[CV 2/5] END .C=10, gamma=0.01, kernel=sigmoid;, score=-0.005 total time=   0.0s\n",
      "[CV 3/5] END .C=10, gamma=0.01, kernel=sigmoid;, score=-0.000 total time=   0.0s\n",
      "[CV 4/5] END .C=10, gamma=0.01, kernel=sigmoid;, score=-0.024 total time=   0.0s\n",
      "[CV 5/5] END .C=10, gamma=0.01, kernel=sigmoid;, score=-0.007 total time=   0.0s\n",
      "[CV 1/5] END .C=10, gamma=0.001, kernel=linear;, score=-0.887 total time=   0.4s\n",
      "[CV 2/5] END .C=10, gamma=0.001, kernel=linear;, score=-0.160 total time=   0.5s\n",
      "[CV 3/5] END .C=10, gamma=0.001, kernel=linear;, score=-0.637 total time=   0.5s\n",
      "[CV 4/5] END .C=10, gamma=0.001, kernel=linear;, score=-2.039 total time=   0.4s\n",
      "[CV 5/5] END .C=10, gamma=0.001, kernel=linear;, score=-2.067 total time=   0.7s\n",
      "[CV 1/5] END .....C=10, gamma=0.001, kernel=rbf;, score=0.768 total time=   0.0s\n",
      "[CV 2/5] END .....C=10, gamma=0.001, kernel=rbf;, score=0.722 total time=   0.0s\n",
      "[CV 3/5] END .....C=10, gamma=0.001, kernel=rbf;, score=0.824 total time=   0.0s\n",
      "[CV 4/5] END .....C=10, gamma=0.001, kernel=rbf;, score=0.545 total time=   0.0s\n",
      "[CV 5/5] END .....C=10, gamma=0.001, kernel=rbf;, score=0.768 total time=   0.0s\n",
      "[CV 1/5] END ......C=10, gamma=0.001, kernel=ploy;, score=nan total time=   0.0s\n",
      "[CV 2/5] END ......C=10, gamma=0.001, kernel=ploy;, score=nan total time=   0.0s\n",
      "[CV 3/5] END ......C=10, gamma=0.001, kernel=ploy;, score=nan total time=   0.0s\n",
      "[CV 4/5] END ......C=10, gamma=0.001, kernel=ploy;, score=nan total time=   0.0s\n",
      "[CV 5/5] END ......C=10, gamma=0.001, kernel=ploy;, score=nan total time=   0.0s\n",
      "[CV 1/5] END C=10, gamma=0.001, kernel=sigmoid;, score=-0.012 total time=   0.0s\n",
      "[CV 2/5] END C=10, gamma=0.001, kernel=sigmoid;, score=-0.005 total time=   0.0s\n",
      "[CV 3/5] END C=10, gamma=0.001, kernel=sigmoid;, score=-0.000 total time=   0.0s\n",
      "[CV 4/5] END C=10, gamma=0.001, kernel=sigmoid;, score=-0.024 total time=   0.0s\n",
      "[CV 5/5] END C=10, gamma=0.001, kernel=sigmoid;, score=-0.007 total time=   0.0s\n",
      "[CV 1/5] END ....C=50, gamma=1, kernel=linear;, score=-33.112 total time=   0.8s\n",
      "[CV 2/5] END ....C=50, gamma=1, kernel=linear;, score=-41.054 total time=   0.8s\n",
      "[CV 3/5] END ....C=50, gamma=1, kernel=linear;, score=-57.979 total time=   0.5s\n",
      "[CV 4/5] END ....C=50, gamma=1, kernel=linear;, score=-44.312 total time=   0.8s\n",
      "[CV 5/5] END ....C=50, gamma=1, kernel=linear;, score=-64.026 total time=   0.6s\n",
      "[CV 1/5] END .........C=50, gamma=1, kernel=rbf;, score=0.124 total time=   0.0s\n",
      "[CV 2/5] END .........C=50, gamma=1, kernel=rbf;, score=0.123 total time=   0.0s\n",
      "[CV 3/5] END .........C=50, gamma=1, kernel=rbf;, score=0.093 total time=   0.0s\n",
      "[CV 4/5] END .........C=50, gamma=1, kernel=rbf;, score=0.111 total time=   0.0s\n",
      "[CV 5/5] END .........C=50, gamma=1, kernel=rbf;, score=0.064 total time=   0.0s\n",
      "[CV 1/5] END ..........C=50, gamma=1, kernel=ploy;, score=nan total time=   0.0s\n",
      "[CV 2/5] END ..........C=50, gamma=1, kernel=ploy;, score=nan total time=   0.0s\n",
      "[CV 3/5] END ..........C=50, gamma=1, kernel=ploy;, score=nan total time=   0.0s\n",
      "[CV 4/5] END ..........C=50, gamma=1, kernel=ploy;, score=nan total time=   0.0s\n",
      "[CV 5/5] END ..........C=50, gamma=1, kernel=ploy;, score=nan total time=   0.0s\n",
      "[CV 1/5] END ....C=50, gamma=1, kernel=sigmoid;, score=-0.012 total time=   0.0s\n",
      "[CV 2/5] END ....C=50, gamma=1, kernel=sigmoid;, score=-0.005 total time=   0.0s\n",
      "[CV 3/5] END ....C=50, gamma=1, kernel=sigmoid;, score=-0.000 total time=   0.0s\n",
      "[CV 4/5] END ....C=50, gamma=1, kernel=sigmoid;, score=-0.024 total time=   0.0s\n",
      "[CV 5/5] END ....C=50, gamma=1, kernel=sigmoid;, score=-0.007 total time=   0.0s\n"
     ]
    },
    {
     "name": "stdout",
     "output_type": "stream",
     "text": [
      "[CV 1/5] END ..C=50, gamma=0.5, kernel=linear;, score=-33.112 total time=   0.8s\n",
      "[CV 2/5] END ..C=50, gamma=0.5, kernel=linear;, score=-41.054 total time=   0.8s\n",
      "[CV 3/5] END ..C=50, gamma=0.5, kernel=linear;, score=-57.979 total time=   0.5s\n",
      "[CV 4/5] END ..C=50, gamma=0.5, kernel=linear;, score=-44.312 total time=   0.8s\n",
      "[CV 5/5] END ..C=50, gamma=0.5, kernel=linear;, score=-64.026 total time=   0.6s\n",
      "[CV 1/5] END .......C=50, gamma=0.5, kernel=rbf;, score=0.281 total time=   0.0s\n",
      "[CV 2/5] END .......C=50, gamma=0.5, kernel=rbf;, score=0.284 total time=   0.0s\n",
      "[CV 3/5] END .......C=50, gamma=0.5, kernel=rbf;, score=0.239 total time=   0.0s\n",
      "[CV 4/5] END .......C=50, gamma=0.5, kernel=rbf;, score=0.199 total time=   0.0s\n",
      "[CV 5/5] END .......C=50, gamma=0.5, kernel=rbf;, score=0.144 total time=   0.0s\n",
      "[CV 1/5] END ........C=50, gamma=0.5, kernel=ploy;, score=nan total time=   0.0s\n",
      "[CV 2/5] END ........C=50, gamma=0.5, kernel=ploy;, score=nan total time=   0.0s\n",
      "[CV 3/5] END ........C=50, gamma=0.5, kernel=ploy;, score=nan total time=   0.0s\n",
      "[CV 4/5] END ........C=50, gamma=0.5, kernel=ploy;, score=nan total time=   0.0s\n",
      "[CV 5/5] END ........C=50, gamma=0.5, kernel=ploy;, score=nan total time=   0.0s\n",
      "[CV 1/5] END ..C=50, gamma=0.5, kernel=sigmoid;, score=-0.012 total time=   0.0s\n",
      "[CV 2/5] END ..C=50, gamma=0.5, kernel=sigmoid;, score=-0.005 total time=   0.0s\n",
      "[CV 3/5] END ..C=50, gamma=0.5, kernel=sigmoid;, score=-0.000 total time=   0.0s\n",
      "[CV 4/5] END ..C=50, gamma=0.5, kernel=sigmoid;, score=-0.024 total time=   0.0s\n",
      "[CV 5/5] END ..C=50, gamma=0.5, kernel=sigmoid;, score=-0.007 total time=   0.0s\n",
      "[CV 1/5] END ..C=50, gamma=0.1, kernel=linear;, score=-33.112 total time=   0.8s\n",
      "[CV 2/5] END ..C=50, gamma=0.1, kernel=linear;, score=-41.054 total time=   0.7s\n",
      "[CV 3/5] END ..C=50, gamma=0.1, kernel=linear;, score=-57.979 total time=   0.5s\n",
      "[CV 4/5] END ..C=50, gamma=0.1, kernel=linear;, score=-44.312 total time=   0.8s\n",
      "[CV 5/5] END ..C=50, gamma=0.1, kernel=linear;, score=-64.026 total time=   0.6s\n",
      "[CV 1/5] END .......C=50, gamma=0.1, kernel=rbf;, score=0.571 total time=   0.0s\n",
      "[CV 2/5] END .......C=50, gamma=0.1, kernel=rbf;, score=0.626 total time=   0.0s\n",
      "[CV 3/5] END .......C=50, gamma=0.1, kernel=rbf;, score=0.635 total time=   0.0s\n",
      "[CV 4/5] END .......C=50, gamma=0.1, kernel=rbf;, score=0.346 total time=   0.0s\n",
      "[CV 5/5] END .......C=50, gamma=0.1, kernel=rbf;, score=0.399 total time=   0.0s\n",
      "[CV 1/5] END ........C=50, gamma=0.1, kernel=ploy;, score=nan total time=   0.0s\n",
      "[CV 2/5] END ........C=50, gamma=0.1, kernel=ploy;, score=nan total time=   0.0s\n",
      "[CV 3/5] END ........C=50, gamma=0.1, kernel=ploy;, score=nan total time=   0.0s\n",
      "[CV 4/5] END ........C=50, gamma=0.1, kernel=ploy;, score=nan total time=   0.0s\n",
      "[CV 5/5] END ........C=50, gamma=0.1, kernel=ploy;, score=nan total time=   0.0s\n",
      "[CV 1/5] END ..C=50, gamma=0.1, kernel=sigmoid;, score=-0.012 total time=   0.0s\n",
      "[CV 2/5] END ..C=50, gamma=0.1, kernel=sigmoid;, score=-0.005 total time=   0.0s\n",
      "[CV 3/5] END ..C=50, gamma=0.1, kernel=sigmoid;, score=-0.000 total time=   0.0s\n",
      "[CV 4/5] END ..C=50, gamma=0.1, kernel=sigmoid;, score=-0.024 total time=   0.0s\n",
      "[CV 5/5] END ..C=50, gamma=0.1, kernel=sigmoid;, score=-0.007 total time=   0.0s\n",
      "[CV 1/5] END .C=50, gamma=0.01, kernel=linear;, score=-33.112 total time=   0.8s\n",
      "[CV 2/5] END .C=50, gamma=0.01, kernel=linear;, score=-41.054 total time=   0.7s\n",
      "[CV 3/5] END .C=50, gamma=0.01, kernel=linear;, score=-57.979 total time=   0.4s\n",
      "[CV 4/5] END .C=50, gamma=0.01, kernel=linear;, score=-44.312 total time=   0.5s\n",
      "[CV 5/5] END .C=50, gamma=0.01, kernel=linear;, score=-64.026 total time=   0.4s\n",
      "[CV 1/5] END ......C=50, gamma=0.01, kernel=rbf;, score=0.659 total time=   0.0s\n",
      "[CV 2/5] END ......C=50, gamma=0.01, kernel=rbf;, score=0.726 total time=   0.0s\n",
      "[CV 3/5] END ......C=50, gamma=0.01, kernel=rbf;, score=0.681 total time=   0.0s\n",
      "[CV 4/5] END ......C=50, gamma=0.01, kernel=rbf;, score=0.235 total time=   0.0s\n",
      "[CV 5/5] END ......C=50, gamma=0.01, kernel=rbf;, score=0.537 total time=   0.0s\n",
      "[CV 1/5] END .......C=50, gamma=0.01, kernel=ploy;, score=nan total time=   0.0s\n",
      "[CV 2/5] END .......C=50, gamma=0.01, kernel=ploy;, score=nan total time=   0.0s\n",
      "[CV 3/5] END .......C=50, gamma=0.01, kernel=ploy;, score=nan total time=   0.0s\n",
      "[CV 4/5] END .......C=50, gamma=0.01, kernel=ploy;, score=nan total time=   0.0s\n",
      "[CV 5/5] END .......C=50, gamma=0.01, kernel=ploy;, score=nan total time=   0.0s\n",
      "[CV 1/5] END .C=50, gamma=0.01, kernel=sigmoid;, score=-0.012 total time=   0.0s\n",
      "[CV 2/5] END .C=50, gamma=0.01, kernel=sigmoid;, score=-0.005 total time=   0.0s\n",
      "[CV 3/5] END .C=50, gamma=0.01, kernel=sigmoid;, score=-0.000 total time=   0.0s\n",
      "[CV 4/5] END .C=50, gamma=0.01, kernel=sigmoid;, score=-0.024 total time=   0.0s\n",
      "[CV 5/5] END .C=50, gamma=0.01, kernel=sigmoid;, score=-0.007 total time=   0.0s\n",
      "[CV 1/5] END C=50, gamma=0.001, kernel=linear;, score=-33.112 total time=   0.5s\n",
      "[CV 2/5] END C=50, gamma=0.001, kernel=linear;, score=-41.054 total time=   0.7s\n",
      "[CV 3/5] END C=50, gamma=0.001, kernel=linear;, score=-57.979 total time=   0.5s\n",
      "[CV 4/5] END C=50, gamma=0.001, kernel=linear;, score=-44.312 total time=   0.8s\n",
      "[CV 5/5] END C=50, gamma=0.001, kernel=linear;, score=-64.026 total time=   0.6s\n",
      "[CV 1/5] END .....C=50, gamma=0.001, kernel=rbf;, score=0.750 total time=   0.0s\n",
      "[CV 2/5] END .....C=50, gamma=0.001, kernel=rbf;, score=0.728 total time=   0.0s\n",
      "[CV 3/5] END .....C=50, gamma=0.001, kernel=rbf;, score=0.834 total time=   0.0s\n",
      "[CV 4/5] END .....C=50, gamma=0.001, kernel=rbf;, score=0.586 total time=   0.0s\n",
      "[CV 5/5] END .....C=50, gamma=0.001, kernel=rbf;, score=0.755 total time=   0.0s\n",
      "[CV 1/5] END ......C=50, gamma=0.001, kernel=ploy;, score=nan total time=   0.0s\n",
      "[CV 2/5] END ......C=50, gamma=0.001, kernel=ploy;, score=nan total time=   0.0s\n",
      "[CV 3/5] END ......C=50, gamma=0.001, kernel=ploy;, score=nan total time=   0.0s\n",
      "[CV 4/5] END ......C=50, gamma=0.001, kernel=ploy;, score=nan total time=   0.0s\n",
      "[CV 5/5] END ......C=50, gamma=0.001, kernel=ploy;, score=nan total time=   0.0s\n",
      "[CV 1/5] END C=50, gamma=0.001, kernel=sigmoid;, score=-0.012 total time=   0.0s\n",
      "[CV 2/5] END C=50, gamma=0.001, kernel=sigmoid;, score=-0.005 total time=   0.0s\n",
      "[CV 3/5] END C=50, gamma=0.001, kernel=sigmoid;, score=-0.000 total time=   0.0s\n",
      "[CV 4/5] END C=50, gamma=0.001, kernel=sigmoid;, score=-0.024 total time=   0.0s\n",
      "[CV 5/5] END C=50, gamma=0.001, kernel=sigmoid;, score=-0.007 total time=   0.0s\n",
      "[CV 1/5] END ...C=100, gamma=1, kernel=linear;, score=-46.550 total time=   1.2s\n",
      "[CV 2/5] END ..C=100, gamma=1, kernel=linear;, score=-182.269 total time=   0.5s\n",
      "[CV 3/5] END ...C=100, gamma=1, kernel=linear;, score=-94.429 total time=   0.5s\n",
      "[CV 4/5] END ..C=100, gamma=1, kernel=linear;, score=-474.236 total time=   0.5s\n",
      "[CV 5/5] END ..C=100, gamma=1, kernel=linear;, score=-205.068 total time=   1.0s\n",
      "[CV 1/5] END ........C=100, gamma=1, kernel=rbf;, score=0.124 total time=   0.0s\n",
      "[CV 2/5] END ........C=100, gamma=1, kernel=rbf;, score=0.123 total time=   0.0s\n",
      "[CV 3/5] END ........C=100, gamma=1, kernel=rbf;, score=0.093 total time=   0.0s\n",
      "[CV 4/5] END ........C=100, gamma=1, kernel=rbf;, score=0.111 total time=   0.0s\n",
      "[CV 5/5] END ........C=100, gamma=1, kernel=rbf;, score=0.064 total time=   0.0s\n",
      "[CV 1/5] END .........C=100, gamma=1, kernel=ploy;, score=nan total time=   0.0s\n",
      "[CV 2/5] END .........C=100, gamma=1, kernel=ploy;, score=nan total time=   0.0s\n",
      "[CV 3/5] END .........C=100, gamma=1, kernel=ploy;, score=nan total time=   0.0s\n",
      "[CV 4/5] END .........C=100, gamma=1, kernel=ploy;, score=nan total time=   0.0s\n",
      "[CV 5/5] END .........C=100, gamma=1, kernel=ploy;, score=nan total time=   0.0s\n",
      "[CV 1/5] END ...C=100, gamma=1, kernel=sigmoid;, score=-0.012 total time=   0.0s\n",
      "[CV 2/5] END ...C=100, gamma=1, kernel=sigmoid;, score=-0.005 total time=   0.0s\n",
      "[CV 3/5] END ...C=100, gamma=1, kernel=sigmoid;, score=-0.000 total time=   0.0s\n",
      "[CV 4/5] END ...C=100, gamma=1, kernel=sigmoid;, score=-0.024 total time=   0.0s\n",
      "[CV 5/5] END ...C=100, gamma=1, kernel=sigmoid;, score=-0.007 total time=   0.0s\n",
      "[CV 1/5] END .C=100, gamma=0.5, kernel=linear;, score=-46.550 total time=   1.2s\n",
      "[CV 2/5] END C=100, gamma=0.5, kernel=linear;, score=-182.269 total time=   0.5s\n"
     ]
    },
    {
     "name": "stdout",
     "output_type": "stream",
     "text": [
      "[CV 3/5] END .C=100, gamma=0.5, kernel=linear;, score=-94.429 total time=   0.5s\n",
      "[CV 4/5] END C=100, gamma=0.5, kernel=linear;, score=-474.236 total time=   0.5s\n",
      "[CV 5/5] END C=100, gamma=0.5, kernel=linear;, score=-205.068 total time=   1.0s\n",
      "[CV 1/5] END ......C=100, gamma=0.5, kernel=rbf;, score=0.281 total time=   0.0s\n",
      "[CV 2/5] END ......C=100, gamma=0.5, kernel=rbf;, score=0.284 total time=   0.0s\n",
      "[CV 3/5] END ......C=100, gamma=0.5, kernel=rbf;, score=0.239 total time=   0.0s\n",
      "[CV 4/5] END ......C=100, gamma=0.5, kernel=rbf;, score=0.199 total time=   0.0s\n",
      "[CV 5/5] END ......C=100, gamma=0.5, kernel=rbf;, score=0.144 total time=   0.0s\n",
      "[CV 1/5] END .......C=100, gamma=0.5, kernel=ploy;, score=nan total time=   0.0s\n",
      "[CV 2/5] END .......C=100, gamma=0.5, kernel=ploy;, score=nan total time=   0.0s\n",
      "[CV 3/5] END .......C=100, gamma=0.5, kernel=ploy;, score=nan total time=   0.0s\n",
      "[CV 4/5] END .......C=100, gamma=0.5, kernel=ploy;, score=nan total time=   0.0s\n",
      "[CV 5/5] END .......C=100, gamma=0.5, kernel=ploy;, score=nan total time=   0.0s\n",
      "[CV 1/5] END .C=100, gamma=0.5, kernel=sigmoid;, score=-0.012 total time=   0.0s\n",
      "[CV 2/5] END .C=100, gamma=0.5, kernel=sigmoid;, score=-0.005 total time=   0.0s\n",
      "[CV 3/5] END .C=100, gamma=0.5, kernel=sigmoid;, score=-0.000 total time=   0.0s\n",
      "[CV 4/5] END .C=100, gamma=0.5, kernel=sigmoid;, score=-0.024 total time=   0.0s\n",
      "[CV 5/5] END .C=100, gamma=0.5, kernel=sigmoid;, score=-0.007 total time=   0.0s\n",
      "[CV 1/5] END .C=100, gamma=0.1, kernel=linear;, score=-46.550 total time=   1.2s\n",
      "[CV 2/5] END C=100, gamma=0.1, kernel=linear;, score=-182.269 total time=   0.5s\n",
      "[CV 3/5] END .C=100, gamma=0.1, kernel=linear;, score=-94.429 total time=   0.5s\n",
      "[CV 4/5] END C=100, gamma=0.1, kernel=linear;, score=-474.236 total time=   0.5s\n",
      "[CV 5/5] END C=100, gamma=0.1, kernel=linear;, score=-205.068 total time=   1.0s\n",
      "[CV 1/5] END ......C=100, gamma=0.1, kernel=rbf;, score=0.571 total time=   0.0s\n",
      "[CV 2/5] END ......C=100, gamma=0.1, kernel=rbf;, score=0.626 total time=   0.0s\n",
      "[CV 3/5] END ......C=100, gamma=0.1, kernel=rbf;, score=0.635 total time=   0.0s\n",
      "[CV 4/5] END ......C=100, gamma=0.1, kernel=rbf;, score=0.346 total time=   0.0s\n",
      "[CV 5/5] END ......C=100, gamma=0.1, kernel=rbf;, score=0.399 total time=   0.0s\n",
      "[CV 1/5] END .......C=100, gamma=0.1, kernel=ploy;, score=nan total time=   0.0s\n",
      "[CV 2/5] END .......C=100, gamma=0.1, kernel=ploy;, score=nan total time=   0.0s\n",
      "[CV 3/5] END .......C=100, gamma=0.1, kernel=ploy;, score=nan total time=   0.0s\n",
      "[CV 4/5] END .......C=100, gamma=0.1, kernel=ploy;, score=nan total time=   0.0s\n",
      "[CV 5/5] END .......C=100, gamma=0.1, kernel=ploy;, score=nan total time=   0.0s\n",
      "[CV 1/5] END .C=100, gamma=0.1, kernel=sigmoid;, score=-0.012 total time=   0.0s\n",
      "[CV 2/5] END .C=100, gamma=0.1, kernel=sigmoid;, score=-0.005 total time=   0.0s\n",
      "[CV 3/5] END .C=100, gamma=0.1, kernel=sigmoid;, score=-0.000 total time=   0.0s\n",
      "[CV 4/5] END .C=100, gamma=0.1, kernel=sigmoid;, score=-0.024 total time=   0.0s\n",
      "[CV 5/5] END .C=100, gamma=0.1, kernel=sigmoid;, score=-0.007 total time=   0.0s\n",
      "[CV 1/5] END C=100, gamma=0.01, kernel=linear;, score=-46.550 total time=   1.2s\n",
      "[CV 2/5] END C=100, gamma=0.01, kernel=linear;, score=-182.269 total time=   0.5s\n",
      "[CV 3/5] END C=100, gamma=0.01, kernel=linear;, score=-94.429 total time=   0.5s\n",
      "[CV 4/5] END C=100, gamma=0.01, kernel=linear;, score=-474.236 total time=   0.5s\n",
      "[CV 5/5] END C=100, gamma=0.01, kernel=linear;, score=-205.068 total time=   1.0s\n",
      "[CV 1/5] END .....C=100, gamma=0.01, kernel=rbf;, score=0.659 total time=   0.0s\n",
      "[CV 2/5] END .....C=100, gamma=0.01, kernel=rbf;, score=0.718 total time=   0.0s\n",
      "[CV 3/5] END .....C=100, gamma=0.01, kernel=rbf;, score=0.685 total time=   0.0s\n",
      "[CV 4/5] END .....C=100, gamma=0.01, kernel=rbf;, score=0.152 total time=   0.0s\n",
      "[CV 5/5] END .....C=100, gamma=0.01, kernel=rbf;, score=0.537 total time=   0.0s\n",
      "[CV 1/5] END ......C=100, gamma=0.01, kernel=ploy;, score=nan total time=   0.0s\n",
      "[CV 2/5] END ......C=100, gamma=0.01, kernel=ploy;, score=nan total time=   0.0s\n",
      "[CV 3/5] END ......C=100, gamma=0.01, kernel=ploy;, score=nan total time=   0.0s\n",
      "[CV 4/5] END ......C=100, gamma=0.01, kernel=ploy;, score=nan total time=   0.0s\n",
      "[CV 5/5] END ......C=100, gamma=0.01, kernel=ploy;, score=nan total time=   0.0s\n",
      "[CV 1/5] END C=100, gamma=0.01, kernel=sigmoid;, score=-0.012 total time=   0.0s\n",
      "[CV 2/5] END C=100, gamma=0.01, kernel=sigmoid;, score=-0.005 total time=   0.0s\n",
      "[CV 3/5] END C=100, gamma=0.01, kernel=sigmoid;, score=-0.000 total time=   0.0s\n",
      "[CV 4/5] END C=100, gamma=0.01, kernel=sigmoid;, score=-0.024 total time=   0.0s\n",
      "[CV 5/5] END C=100, gamma=0.01, kernel=sigmoid;, score=-0.007 total time=   0.0s\n",
      "[CV 1/5] END C=100, gamma=0.001, kernel=linear;, score=-46.550 total time=   0.9s\n",
      "[CV 2/5] END C=100, gamma=0.001, kernel=linear;, score=-182.269 total time=   0.3s\n",
      "[CV 3/5] END C=100, gamma=0.001, kernel=linear;, score=-94.429 total time=   0.3s\n",
      "[CV 4/5] END C=100, gamma=0.001, kernel=linear;, score=-474.236 total time=   0.4s\n",
      "[CV 5/5] END C=100, gamma=0.001, kernel=linear;, score=-205.068 total time=   0.8s\n",
      "[CV 1/5] END ....C=100, gamma=0.001, kernel=rbf;, score=0.757 total time=   0.0s\n",
      "[CV 2/5] END ....C=100, gamma=0.001, kernel=rbf;, score=0.730 total time=   0.0s\n",
      "[CV 3/5] END ....C=100, gamma=0.001, kernel=rbf;, score=0.811 total time=   0.0s\n",
      "[CV 4/5] END ....C=100, gamma=0.001, kernel=rbf;, score=0.610 total time=   0.0s\n",
      "[CV 5/5] END ....C=100, gamma=0.001, kernel=rbf;, score=0.725 total time=   0.0s\n",
      "[CV 1/5] END .....C=100, gamma=0.001, kernel=ploy;, score=nan total time=   0.0s\n",
      "[CV 2/5] END .....C=100, gamma=0.001, kernel=ploy;, score=nan total time=   0.0s\n",
      "[CV 3/5] END .....C=100, gamma=0.001, kernel=ploy;, score=nan total time=   0.0s\n",
      "[CV 4/5] END .....C=100, gamma=0.001, kernel=ploy;, score=nan total time=   0.0s\n",
      "[CV 5/5] END .....C=100, gamma=0.001, kernel=ploy;, score=nan total time=   0.0s\n",
      "[CV 1/5] END C=100, gamma=0.001, kernel=sigmoid;, score=-0.012 total time=   0.0s\n",
      "[CV 2/5] END C=100, gamma=0.001, kernel=sigmoid;, score=-0.005 total time=   0.0s\n",
      "[CV 3/5] END C=100, gamma=0.001, kernel=sigmoid;, score=-0.000 total time=   0.0s\n",
      "[CV 4/5] END C=100, gamma=0.001, kernel=sigmoid;, score=-0.024 total time=   0.0s\n",
      "[CV 5/5] END C=100, gamma=0.001, kernel=sigmoid;, score=-0.007 total time=   0.0s\n",
      "[CV 1/5] END .C=500, gamma=1, kernel=linear;, score=-2260.889 total time=   0.6s\n",
      "[CV 2/5] END .C=500, gamma=1, kernel=linear;, score=-2931.571 total time=   0.3s\n",
      "[CV 3/5] END .C=500, gamma=1, kernel=linear;, score=-4435.594 total time=   0.7s\n",
      "[CV 4/5] END C=500, gamma=1, kernel=linear;, score=-12664.194 total time=   0.4s\n",
      "[CV 5/5] END .C=500, gamma=1, kernel=linear;, score=-6683.509 total time=   0.3s\n",
      "[CV 1/5] END ........C=500, gamma=1, kernel=rbf;, score=0.124 total time=   0.0s\n",
      "[CV 2/5] END ........C=500, gamma=1, kernel=rbf;, score=0.123 total time=   0.0s\n",
      "[CV 3/5] END ........C=500, gamma=1, kernel=rbf;, score=0.093 total time=   0.0s\n",
      "[CV 4/5] END ........C=500, gamma=1, kernel=rbf;, score=0.111 total time=   0.0s\n",
      "[CV 5/5] END ........C=500, gamma=1, kernel=rbf;, score=0.064 total time=   0.0s\n",
      "[CV 1/5] END .........C=500, gamma=1, kernel=ploy;, score=nan total time=   0.0s\n",
      "[CV 2/5] END .........C=500, gamma=1, kernel=ploy;, score=nan total time=   0.0s\n",
      "[CV 3/5] END .........C=500, gamma=1, kernel=ploy;, score=nan total time=   0.0s\n",
      "[CV 4/5] END .........C=500, gamma=1, kernel=ploy;, score=nan total time=   0.0s\n",
      "[CV 5/5] END .........C=500, gamma=1, kernel=ploy;, score=nan total time=   0.0s\n",
      "[CV 1/5] END ...C=500, gamma=1, kernel=sigmoid;, score=-0.012 total time=   0.0s\n",
      "[CV 2/5] END ...C=500, gamma=1, kernel=sigmoid;, score=-0.005 total time=   0.0s\n",
      "[CV 3/5] END ...C=500, gamma=1, kernel=sigmoid;, score=-0.000 total time=   0.0s\n",
      "[CV 4/5] END ...C=500, gamma=1, kernel=sigmoid;, score=-0.024 total time=   0.0s\n",
      "[CV 5/5] END ...C=500, gamma=1, kernel=sigmoid;, score=-0.007 total time=   0.0s\n",
      "[CV 1/5] END C=500, gamma=0.5, kernel=linear;, score=-2260.889 total time=   0.5s\n",
      "[CV 2/5] END C=500, gamma=0.5, kernel=linear;, score=-2931.571 total time=   0.2s\n",
      "[CV 3/5] END C=500, gamma=0.5, kernel=linear;, score=-4435.594 total time=   0.6s\n"
     ]
    },
    {
     "name": "stdout",
     "output_type": "stream",
     "text": [
      "[CV 4/5] END C=500, gamma=0.5, kernel=linear;, score=-12664.194 total time=   0.4s\n",
      "[CV 5/5] END C=500, gamma=0.5, kernel=linear;, score=-6683.509 total time=   0.3s\n",
      "[CV 1/5] END ......C=500, gamma=0.5, kernel=rbf;, score=0.281 total time=   0.0s\n",
      "[CV 2/5] END ......C=500, gamma=0.5, kernel=rbf;, score=0.284 total time=   0.0s\n",
      "[CV 3/5] END ......C=500, gamma=0.5, kernel=rbf;, score=0.239 total time=   0.0s\n",
      "[CV 4/5] END ......C=500, gamma=0.5, kernel=rbf;, score=0.199 total time=   0.0s\n",
      "[CV 5/5] END ......C=500, gamma=0.5, kernel=rbf;, score=0.144 total time=   0.0s\n",
      "[CV 1/5] END .......C=500, gamma=0.5, kernel=ploy;, score=nan total time=   0.0s\n",
      "[CV 2/5] END .......C=500, gamma=0.5, kernel=ploy;, score=nan total time=   0.0s\n",
      "[CV 3/5] END .......C=500, gamma=0.5, kernel=ploy;, score=nan total time=   0.0s\n",
      "[CV 4/5] END .......C=500, gamma=0.5, kernel=ploy;, score=nan total time=   0.0s\n",
      "[CV 5/5] END .......C=500, gamma=0.5, kernel=ploy;, score=nan total time=   0.0s\n",
      "[CV 1/5] END .C=500, gamma=0.5, kernel=sigmoid;, score=-0.012 total time=   0.0s\n",
      "[CV 2/5] END .C=500, gamma=0.5, kernel=sigmoid;, score=-0.005 total time=   0.0s\n",
      "[CV 3/5] END .C=500, gamma=0.5, kernel=sigmoid;, score=-0.000 total time=   0.0s\n",
      "[CV 4/5] END .C=500, gamma=0.5, kernel=sigmoid;, score=-0.024 total time=   0.0s\n",
      "[CV 5/5] END .C=500, gamma=0.5, kernel=sigmoid;, score=-0.007 total time=   0.0s\n",
      "[CV 1/5] END C=500, gamma=0.1, kernel=linear;, score=-2260.889 total time=   0.5s\n",
      "[CV 2/5] END C=500, gamma=0.1, kernel=linear;, score=-2931.571 total time=   0.2s\n",
      "[CV 3/5] END C=500, gamma=0.1, kernel=linear;, score=-4435.594 total time=   0.7s\n",
      "[CV 4/5] END C=500, gamma=0.1, kernel=linear;, score=-12664.194 total time=   0.6s\n",
      "[CV 5/5] END C=500, gamma=0.1, kernel=linear;, score=-6683.509 total time=   0.5s\n",
      "[CV 1/5] END ......C=500, gamma=0.1, kernel=rbf;, score=0.571 total time=   0.0s\n",
      "[CV 2/5] END ......C=500, gamma=0.1, kernel=rbf;, score=0.626 total time=   0.0s\n",
      "[CV 3/5] END ......C=500, gamma=0.1, kernel=rbf;, score=0.635 total time=   0.0s\n",
      "[CV 4/5] END ......C=500, gamma=0.1, kernel=rbf;, score=0.346 total time=   0.0s\n",
      "[CV 5/5] END ......C=500, gamma=0.1, kernel=rbf;, score=0.399 total time=   0.0s\n",
      "[CV 1/5] END .......C=500, gamma=0.1, kernel=ploy;, score=nan total time=   0.0s\n",
      "[CV 2/5] END .......C=500, gamma=0.1, kernel=ploy;, score=nan total time=   0.0s\n",
      "[CV 3/5] END .......C=500, gamma=0.1, kernel=ploy;, score=nan total time=   0.0s\n",
      "[CV 4/5] END .......C=500, gamma=0.1, kernel=ploy;, score=nan total time=   0.0s\n",
      "[CV 5/5] END .......C=500, gamma=0.1, kernel=ploy;, score=nan total time=   0.0s\n",
      "[CV 1/5] END .C=500, gamma=0.1, kernel=sigmoid;, score=-0.012 total time=   0.0s\n",
      "[CV 2/5] END .C=500, gamma=0.1, kernel=sigmoid;, score=-0.005 total time=   0.0s\n",
      "[CV 3/5] END .C=500, gamma=0.1, kernel=sigmoid;, score=-0.000 total time=   0.0s\n",
      "[CV 4/5] END .C=500, gamma=0.1, kernel=sigmoid;, score=-0.024 total time=   0.0s\n",
      "[CV 5/5] END .C=500, gamma=0.1, kernel=sigmoid;, score=-0.007 total time=   0.0s\n",
      "[CV 1/5] END C=500, gamma=0.01, kernel=linear;, score=-2260.889 total time=   0.8s\n",
      "[CV 2/5] END C=500, gamma=0.01, kernel=linear;, score=-2931.571 total time=   0.4s\n",
      "[CV 3/5] END C=500, gamma=0.01, kernel=linear;, score=-4435.594 total time=   1.0s\n",
      "[CV 4/5] END C=500, gamma=0.01, kernel=linear;, score=-12664.194 total time=   0.6s\n",
      "[CV 5/5] END C=500, gamma=0.01, kernel=linear;, score=-6683.509 total time=   0.5s\n",
      "[CV 1/5] END .....C=500, gamma=0.01, kernel=rbf;, score=0.659 total time=   0.0s\n",
      "[CV 2/5] END .....C=500, gamma=0.01, kernel=rbf;, score=0.671 total time=   0.0s\n",
      "[CV 3/5] END .....C=500, gamma=0.01, kernel=rbf;, score=0.684 total time=   0.0s\n",
      "[CV 4/5] END .....C=500, gamma=0.01, kernel=rbf;, score=0.152 total time=   0.0s\n",
      "[CV 5/5] END .....C=500, gamma=0.01, kernel=rbf;, score=0.537 total time=   0.0s\n",
      "[CV 1/5] END ......C=500, gamma=0.01, kernel=ploy;, score=nan total time=   0.0s\n",
      "[CV 2/5] END ......C=500, gamma=0.01, kernel=ploy;, score=nan total time=   0.0s\n",
      "[CV 3/5] END ......C=500, gamma=0.01, kernel=ploy;, score=nan total time=   0.0s\n",
      "[CV 4/5] END ......C=500, gamma=0.01, kernel=ploy;, score=nan total time=   0.0s\n",
      "[CV 5/5] END ......C=500, gamma=0.01, kernel=ploy;, score=nan total time=   0.0s\n",
      "[CV 1/5] END C=500, gamma=0.01, kernel=sigmoid;, score=-0.012 total time=   0.0s\n",
      "[CV 2/5] END C=500, gamma=0.01, kernel=sigmoid;, score=-0.005 total time=   0.0s\n",
      "[CV 3/5] END C=500, gamma=0.01, kernel=sigmoid;, score=-0.000 total time=   0.0s\n",
      "[CV 4/5] END C=500, gamma=0.01, kernel=sigmoid;, score=-0.024 total time=   0.0s\n",
      "[CV 5/5] END C=500, gamma=0.01, kernel=sigmoid;, score=-0.007 total time=   0.0s\n",
      "[CV 1/5] END C=500, gamma=0.001, kernel=linear;, score=-2260.889 total time=   0.8s\n",
      "[CV 2/5] END C=500, gamma=0.001, kernel=linear;, score=-2931.571 total time=   0.4s\n",
      "[CV 3/5] END C=500, gamma=0.001, kernel=linear;, score=-4435.594 total time=   0.9s\n",
      "[CV 4/5] END C=500, gamma=0.001, kernel=linear;, score=-12664.194 total time=   0.6s\n",
      "[CV 5/5] END C=500, gamma=0.001, kernel=linear;, score=-6683.509 total time=   0.5s\n",
      "[CV 1/5] END ....C=500, gamma=0.001, kernel=rbf;, score=0.753 total time=   0.0s\n",
      "[CV 2/5] END ....C=500, gamma=0.001, kernel=rbf;, score=0.731 total time=   0.0s\n",
      "[CV 3/5] END ....C=500, gamma=0.001, kernel=rbf;, score=0.743 total time=   0.0s\n",
      "[CV 4/5] END ....C=500, gamma=0.001, kernel=rbf;, score=0.613 total time=   0.0s\n",
      "[CV 5/5] END ....C=500, gamma=0.001, kernel=rbf;, score=0.642 total time=   0.0s\n",
      "[CV 1/5] END .....C=500, gamma=0.001, kernel=ploy;, score=nan total time=   0.0s\n",
      "[CV 2/5] END .....C=500, gamma=0.001, kernel=ploy;, score=nan total time=   0.0s\n",
      "[CV 3/5] END .....C=500, gamma=0.001, kernel=ploy;, score=nan total time=   0.0s\n",
      "[CV 4/5] END .....C=500, gamma=0.001, kernel=ploy;, score=nan total time=   0.0s\n",
      "[CV 5/5] END .....C=500, gamma=0.001, kernel=ploy;, score=nan total time=   0.0s\n",
      "[CV 1/5] END C=500, gamma=0.001, kernel=sigmoid;, score=-0.012 total time=   0.0s\n",
      "[CV 2/5] END C=500, gamma=0.001, kernel=sigmoid;, score=-0.005 total time=   0.0s\n",
      "[CV 3/5] END C=500, gamma=0.001, kernel=sigmoid;, score=-0.000 total time=   0.0s\n",
      "[CV 4/5] END C=500, gamma=0.001, kernel=sigmoid;, score=-0.024 total time=   0.0s\n",
      "[CV 5/5] END C=500, gamma=0.001, kernel=sigmoid;, score=-0.007 total time=   0.0s\n"
     ]
    },
    {
     "name": "stderr",
     "output_type": "stream",
     "text": [
      "c:\\users\\acer\\appdata\\local\\programs\\python\\python39\\lib\\site-packages\\sklearn\\model_selection\\_validation.py:372: FitFailedWarning: \n",
      "150 fits failed out of a total of 600.\n",
      "The score on these train-test partitions for these parameters will be set to nan.\n",
      "If these failures are not expected, you can try to debug them by setting error_score='raise'.\n",
      "\n",
      "Below are more details about the failures:\n",
      "--------------------------------------------------------------------------------\n",
      "150 fits failed with the following error:\n",
      "Traceback (most recent call last):\n",
      "  File \"c:\\users\\acer\\appdata\\local\\programs\\python\\python39\\lib\\site-packages\\sklearn\\model_selection\\_validation.py\", line 680, in _fit_and_score\n",
      "    estimator.fit(X_train, y_train, **fit_params)\n",
      "  File \"c:\\users\\acer\\appdata\\local\\programs\\python\\python39\\lib\\site-packages\\sklearn\\svm\\_base.py\", line 255, in fit\n",
      "    fit(X, y, sample_weight, solver_type, kernel, random_seed=seed)\n",
      "  File \"c:\\users\\acer\\appdata\\local\\programs\\python\\python39\\lib\\site-packages\\sklearn\\svm\\_base.py\", line 315, in _dense_fit\n",
      "    ) = libsvm.fit(\n",
      "  File \"sklearn\\svm\\_libsvm.pyx\", line 173, in sklearn.svm._libsvm.fit\n",
      "ValueError: 'ploy' is not in list\n",
      "\n",
      "  warnings.warn(some_fits_failed_message, FitFailedWarning)\n",
      "c:\\users\\acer\\appdata\\local\\programs\\python\\python39\\lib\\site-packages\\sklearn\\model_selection\\_search.py:969: UserWarning: One or more of the test scores are non-finite: [ 7.62557225e-01  8.78218678e-02             nan -9.41971027e-03\n",
      "  7.62557225e-01  2.08057526e-01             nan -9.41971027e-03\n",
      "  7.62557225e-01  5.13166451e-01             nan -9.41971027e-03\n",
      "  7.62557225e-01  6.46010661e-01             nan -9.41971027e-03\n",
      "  7.62557225e-01  6.50835132e-01             nan -9.41971027e-03\n",
      "  7.73204127e-01  1.02839382e-01             nan -9.41971027e-03\n",
      "  7.73204127e-01  2.29474798e-01             nan -9.41971027e-03\n",
      "  7.73204127e-01  5.15183647e-01             nan -9.41971027e-03\n",
      "  7.73204127e-01  6.61774992e-01             nan -9.41971027e-03\n",
      "  7.73204127e-01  6.94129759e-01             nan -9.41971027e-03\n",
      " -1.15815090e+00  1.02839382e-01             nan -9.41971027e-03\n",
      " -1.15815090e+00  2.29474798e-01             nan -9.41971027e-03\n",
      " -1.15815090e+00  5.15183647e-01             nan -9.41971027e-03\n",
      " -1.15815090e+00  6.13949640e-01             nan -9.41971027e-03\n",
      " -1.15815090e+00  7.25532872e-01             nan -9.41971027e-03\n",
      " -4.80966455e+01  1.02839382e-01             nan -9.41971027e-03\n",
      " -4.80966455e+01  2.29474798e-01             nan -9.41971027e-03\n",
      " -4.80966455e+01  5.15183647e-01             nan -9.41971027e-03\n",
      " -4.80966455e+01  5.67509876e-01             nan -9.41971027e-03\n",
      " -4.80966455e+01  7.30528651e-01             nan -9.41971027e-03\n",
      " -2.00510542e+02  1.02839382e-01             nan -9.41971027e-03\n",
      " -2.00510542e+02  2.29474798e-01             nan -9.41971027e-03\n",
      " -2.00510542e+02  5.15183647e-01             nan -9.41971027e-03\n",
      " -2.00510542e+02  5.50138359e-01             nan -9.41971027e-03\n",
      " -2.00510542e+02  7.26549361e-01             nan -9.41971027e-03\n",
      " -5.79515165e+03  1.02839382e-01             nan -9.41971027e-03\n",
      " -5.79515165e+03  2.29474798e-01             nan -9.41971027e-03\n",
      " -5.79515165e+03  5.15183647e-01             nan -9.41971027e-03\n",
      " -5.79515165e+03  5.40659893e-01             nan -9.41971027e-03\n",
      " -5.79515165e+03  6.96548924e-01             nan -9.41971027e-03]\n",
      "  warnings.warn(\n"
     ]
    },
    {
     "data": {
      "text/plain": [
       "GridSearchCV(estimator=SVR(),\n",
       "             param_grid={'C': [0.1, 1, 10, 50, 100, 500],\n",
       "                         'gamma': [1, 0.5, 0.1, 0.01, 0.001],\n",
       "                         'kernel': ['linear', 'rbf', 'ploy', 'sigmoid']},\n",
       "             verbose=3)"
      ]
     },
     "execution_count": 53,
     "metadata": {},
     "output_type": "execute_result"
    }
   ],
   "source": [
    "grid.fit(train_x,train_y)"
   ]
  },
  {
   "cell_type": "code",
   "execution_count": 54,
   "id": "cefc0cbd",
   "metadata": {},
   "outputs": [
    {
     "data": {
      "text/plain": [
       "SVR(C=1, gamma=1, kernel='linear')"
      ]
     },
     "execution_count": 54,
     "metadata": {},
     "output_type": "execute_result"
    }
   ],
   "source": [
    "grid.best_estimator_"
   ]
  },
  {
   "cell_type": "code",
   "execution_count": 55,
   "id": "90a5a8af",
   "metadata": {},
   "outputs": [],
   "source": [
    "svr_new=SVR(C=1, gamma=1, kernel='linear')"
   ]
  },
  {
   "cell_type": "code",
   "execution_count": 56,
   "id": "94662866",
   "metadata": {},
   "outputs": [
    {
     "data": {
      "text/plain": [
       "SVR(C=1, gamma=1, kernel='linear')"
      ]
     },
     "execution_count": 56,
     "metadata": {},
     "output_type": "execute_result"
    }
   ],
   "source": [
    "svr_new.fit(train_x, train_y)"
   ]
  },
  {
   "cell_type": "code",
   "execution_count": 57,
   "id": "3ac32e8e",
   "metadata": {},
   "outputs": [],
   "source": [
    "y_predict=svr_new.predict(test_x)"
   ]
  },
  {
   "cell_type": "code",
   "execution_count": 61,
   "id": "c34f6d25",
   "metadata": {},
   "outputs": [
    {
     "data": {
      "text/plain": [
       "0.4142904609310956"
      ]
     },
     "execution_count": 61,
     "metadata": {},
     "output_type": "execute_result"
    }
   ],
   "source": [
    "mean_squared_error(test_y,y_predict)*100"
   ]
  },
  {
   "cell_type": "markdown",
   "id": "cf2e9337",
   "metadata": {},
   "source": [
    "# model 3"
   ]
  },
  {
   "cell_type": "code",
   "execution_count": 62,
   "id": "3962dd00",
   "metadata": {},
   "outputs": [],
   "source": [
    "svr_new1=SVR(C=50, cache_size=200, coef0=0.0, degree=3, epsilon=0.1, gamma= 0.001, kernel='rbf', max_iter=-1, shrinking=True, tol=0.001, verbose =False)"
   ]
  },
  {
   "cell_type": "code",
   "execution_count": 63,
   "id": "11ec3ec9",
   "metadata": {},
   "outputs": [
    {
     "data": {
      "text/plain": [
       "SVR(C=50, gamma=0.001)"
      ]
     },
     "execution_count": 63,
     "metadata": {},
     "output_type": "execute_result"
    }
   ],
   "source": [
    "svr_new1.fit(train_x, train_y)"
   ]
  },
  {
   "cell_type": "code",
   "execution_count": 64,
   "id": "d0527c7f",
   "metadata": {},
   "outputs": [
    {
     "data": {
      "text/plain": [
       "0.4599286932623946"
      ]
     },
     "execution_count": 64,
     "metadata": {},
     "output_type": "execute_result"
    }
   ],
   "source": [
    "mean_squared_error(test_y,svr_new1.predict(test_x))*100"
   ]
  },
  {
   "cell_type": "code",
   "execution_count": 66,
   "id": "329604fd",
   "metadata": {},
   "outputs": [],
   "source": [
    "score_new=r2_score(test_y, svr_new1.predict(test_x))"
   ]
  },
  {
   "cell_type": "code",
   "execution_count": 67,
   "id": "e81b582b",
   "metadata": {},
   "outputs": [
    {
     "data": {
      "text/plain": [
       "0.7457021772643664"
      ]
     },
     "execution_count": 67,
     "metadata": {},
     "output_type": "execute_result"
    }
   ],
   "source": [
    "score_new"
   ]
  },
  {
   "cell_type": "code",
   "execution_count": null,
   "id": "18d62e7e",
   "metadata": {},
   "outputs": [],
   "source": []
  }
 ],
 "metadata": {
  "kernelspec": {
   "display_name": "Python 3 (ipykernel)",
   "language": "python",
   "name": "python3"
  },
  "language_info": {
   "codemirror_mode": {
    "name": "ipython",
    "version": 3
   },
   "file_extension": ".py",
   "mimetype": "text/x-python",
   "name": "python",
   "nbconvert_exporter": "python",
   "pygments_lexer": "ipython3",
   "version": "3.9.4"
  }
 },
 "nbformat": 4,
 "nbformat_minor": 5
}
