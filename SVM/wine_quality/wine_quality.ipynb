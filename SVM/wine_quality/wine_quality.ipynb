{
 "cells": [
  {
   "cell_type": "code",
   "execution_count": 1,
   "id": "b4a6274c",
   "metadata": {},
   "outputs": [],
   "source": [
    "import pandas as pd\n",
    "import numpy as np\n",
    "import matplotlib.pyplot as plt\n",
    "%matplotlib inline "
   ]
  },
  {
   "cell_type": "code",
   "execution_count": 2,
   "id": "30dd0c31",
   "metadata": {},
   "outputs": [],
   "source": [
    "df = pd.read_csv(\"winequality-red.csv\")"
   ]
  },
  {
   "cell_type": "code",
   "execution_count": 3,
   "id": "100f314a",
   "metadata": {},
   "outputs": [
    {
     "data": {
      "text/html": [
       "<div>\n",
       "<style scoped>\n",
       "    .dataframe tbody tr th:only-of-type {\n",
       "        vertical-align: middle;\n",
       "    }\n",
       "\n",
       "    .dataframe tbody tr th {\n",
       "        vertical-align: top;\n",
       "    }\n",
       "\n",
       "    .dataframe thead th {\n",
       "        text-align: right;\n",
       "    }\n",
       "</style>\n",
       "<table border=\"1\" class=\"dataframe\">\n",
       "  <thead>\n",
       "    <tr style=\"text-align: right;\">\n",
       "      <th></th>\n",
       "      <th>fixed acidity</th>\n",
       "      <th>volatile acidity</th>\n",
       "      <th>citric acid</th>\n",
       "      <th>residual sugar</th>\n",
       "      <th>chlorides</th>\n",
       "      <th>free sulfur dioxide</th>\n",
       "      <th>total sulfur dioxide</th>\n",
       "      <th>density</th>\n",
       "      <th>pH</th>\n",
       "      <th>sulphates</th>\n",
       "      <th>alcohol</th>\n",
       "      <th>quality</th>\n",
       "    </tr>\n",
       "  </thead>\n",
       "  <tbody>\n",
       "    <tr>\n",
       "      <th>0</th>\n",
       "      <td>7.4</td>\n",
       "      <td>0.70</td>\n",
       "      <td>0.00</td>\n",
       "      <td>1.9</td>\n",
       "      <td>0.076</td>\n",
       "      <td>11.0</td>\n",
       "      <td>34.0</td>\n",
       "      <td>0.9978</td>\n",
       "      <td>3.51</td>\n",
       "      <td>0.56</td>\n",
       "      <td>9.4</td>\n",
       "      <td>5</td>\n",
       "    </tr>\n",
       "    <tr>\n",
       "      <th>1</th>\n",
       "      <td>7.8</td>\n",
       "      <td>0.88</td>\n",
       "      <td>0.00</td>\n",
       "      <td>2.6</td>\n",
       "      <td>0.098</td>\n",
       "      <td>25.0</td>\n",
       "      <td>67.0</td>\n",
       "      <td>0.9968</td>\n",
       "      <td>3.20</td>\n",
       "      <td>0.68</td>\n",
       "      <td>9.8</td>\n",
       "      <td>5</td>\n",
       "    </tr>\n",
       "    <tr>\n",
       "      <th>2</th>\n",
       "      <td>7.8</td>\n",
       "      <td>0.76</td>\n",
       "      <td>0.04</td>\n",
       "      <td>2.3</td>\n",
       "      <td>0.092</td>\n",
       "      <td>15.0</td>\n",
       "      <td>54.0</td>\n",
       "      <td>0.9970</td>\n",
       "      <td>3.26</td>\n",
       "      <td>0.65</td>\n",
       "      <td>9.8</td>\n",
       "      <td>5</td>\n",
       "    </tr>\n",
       "    <tr>\n",
       "      <th>3</th>\n",
       "      <td>11.2</td>\n",
       "      <td>0.28</td>\n",
       "      <td>0.56</td>\n",
       "      <td>1.9</td>\n",
       "      <td>0.075</td>\n",
       "      <td>17.0</td>\n",
       "      <td>60.0</td>\n",
       "      <td>0.9980</td>\n",
       "      <td>3.16</td>\n",
       "      <td>0.58</td>\n",
       "      <td>9.8</td>\n",
       "      <td>6</td>\n",
       "    </tr>\n",
       "    <tr>\n",
       "      <th>4</th>\n",
       "      <td>7.4</td>\n",
       "      <td>0.70</td>\n",
       "      <td>0.00</td>\n",
       "      <td>1.9</td>\n",
       "      <td>0.076</td>\n",
       "      <td>11.0</td>\n",
       "      <td>34.0</td>\n",
       "      <td>0.9978</td>\n",
       "      <td>3.51</td>\n",
       "      <td>0.56</td>\n",
       "      <td>9.4</td>\n",
       "      <td>5</td>\n",
       "    </tr>\n",
       "  </tbody>\n",
       "</table>\n",
       "</div>"
      ],
      "text/plain": [
       "   fixed acidity  volatile acidity  citric acid  residual sugar  chlorides  \\\n",
       "0            7.4              0.70         0.00             1.9      0.076   \n",
       "1            7.8              0.88         0.00             2.6      0.098   \n",
       "2            7.8              0.76         0.04             2.3      0.092   \n",
       "3           11.2              0.28         0.56             1.9      0.075   \n",
       "4            7.4              0.70         0.00             1.9      0.076   \n",
       "\n",
       "   free sulfur dioxide  total sulfur dioxide  density    pH  sulphates  \\\n",
       "0                 11.0                  34.0   0.9978  3.51       0.56   \n",
       "1                 25.0                  67.0   0.9968  3.20       0.68   \n",
       "2                 15.0                  54.0   0.9970  3.26       0.65   \n",
       "3                 17.0                  60.0   0.9980  3.16       0.58   \n",
       "4                 11.0                  34.0   0.9978  3.51       0.56   \n",
       "\n",
       "   alcohol  quality  \n",
       "0      9.4        5  \n",
       "1      9.8        5  \n",
       "2      9.8        5  \n",
       "3      9.8        6  \n",
       "4      9.4        5  "
      ]
     },
     "execution_count": 3,
     "metadata": {},
     "output_type": "execute_result"
    }
   ],
   "source": [
    "df.head()"
   ]
  },
  {
   "cell_type": "code",
   "execution_count": 4,
   "id": "2b73303f",
   "metadata": {},
   "outputs": [],
   "source": [
    "from pandas_profiling import ProfileReport"
   ]
  },
  {
   "cell_type": "code",
   "execution_count": 5,
   "id": "792e9227",
   "metadata": {},
   "outputs": [
    {
     "data": {
      "application/vnd.jupyter.widget-view+json": {
       "model_id": "5d6a7ad9f5074c7a8ca7019299392549",
       "version_major": 2,
       "version_minor": 0
      },
      "text/plain": [
       "Summarize dataset:   0%|          | 0/5 [00:00<?, ?it/s]"
      ]
     },
     "metadata": {},
     "output_type": "display_data"
    },
    {
     "data": {
      "application/vnd.jupyter.widget-view+json": {
       "model_id": "3e5a0aecba9d4cd490a6313217c0d94e",
       "version_major": 2,
       "version_minor": 0
      },
      "text/plain": [
       "Generate report structure:   0%|          | 0/1 [00:00<?, ?it/s]"
      ]
     },
     "metadata": {},
     "output_type": "display_data"
    },
    {
     "data": {
      "application/vnd.jupyter.widget-view+json": {
       "model_id": "",
       "version_major": 2,
       "version_minor": 0
      },
      "text/plain": [
       "Render widgets:   0%|          | 0/1 [00:00<?, ?it/s]"
      ]
     },
     "metadata": {},
     "output_type": "display_data"
    },
    {
     "data": {
      "application/vnd.jupyter.widget-view+json": {
       "model_id": "4898756c07f84cae9583d17da18ae968",
       "version_major": 2,
       "version_minor": 0
      },
      "text/plain": [
       "VBox(children=(Tab(children=(Tab(children=(GridBox(children=(VBox(children=(GridspecLayout(children=(HTML(valu…"
      ]
     },
     "metadata": {},
     "output_type": "display_data"
    }
   ],
   "source": [
    "profile = ProfileReport(df, title = \"pandas profile Report\")\n",
    "profile.to_widgets()"
   ]
  },
  {
   "cell_type": "code",
   "execution_count": 6,
   "id": "d48706e1",
   "metadata": {},
   "outputs": [
    {
     "data": {
      "text/plain": [
       "<AxesSubplot:xlabel='fixed acidity', ylabel='density'>"
      ]
     },
     "execution_count": 6,
     "metadata": {},
     "output_type": "execute_result"
    }
   ],
   "source": [
    "import seaborn as sns\n",
    "sns.scatterplot(data=df, x = \"fixed acidity\", y = \"density\")"
   ]
  },
  {
   "cell_type": "code",
   "execution_count": 7,
   "id": "354f6623",
   "metadata": {},
   "outputs": [],
   "source": [
    "from sklearn.preprocessing import StandardScaler\n",
    "scaler = StandardScaler()\n",
    "new_data= scaler.fit_transform(df.drop(labels=['quality'], axis = 1))"
   ]
  },
  {
   "cell_type": "code",
   "execution_count": 8,
   "id": "f430e504",
   "metadata": {},
   "outputs": [
    {
     "data": {
      "text/plain": [
       "array([[-0.52835961,  0.96187667, -1.39147228, ...,  1.28864292,\n",
       "        -0.57920652, -0.96024611],\n",
       "       [-0.29854743,  1.96744245, -1.39147228, ..., -0.7199333 ,\n",
       "         0.1289504 , -0.58477711],\n",
       "       [-0.29854743,  1.29706527, -1.18607043, ..., -0.33117661,\n",
       "        -0.04808883, -0.58477711],\n",
       "       ...,\n",
       "       [-1.1603431 , -0.09955388, -0.72391627, ...,  0.70550789,\n",
       "         0.54204194,  0.54162988],\n",
       "       [-1.39015528,  0.65462046, -0.77526673, ...,  1.6773996 ,\n",
       "         0.30598963, -0.20930812],\n",
       "       [-1.33270223, -1.21684919,  1.02199944, ...,  0.51112954,\n",
       "         0.01092425,  0.54162988]])"
      ]
     },
     "execution_count": 8,
     "metadata": {},
     "output_type": "execute_result"
    }
   ],
   "source": [
    "new_data"
   ]
  },
  {
   "cell_type": "code",
   "execution_count": 9,
   "id": "6e7bd76f",
   "metadata": {},
   "outputs": [
    {
     "data": {
      "text/plain": [
       "Index(['fixed acidity', 'volatile acidity', 'citric acid', 'residual sugar',\n",
       "       'chlorides', 'free sulfur dioxide', 'total sulfur dioxide', 'density',\n",
       "       'pH', 'sulphates', 'alcohol', 'quality'],\n",
       "      dtype='object')"
      ]
     },
     "execution_count": 9,
     "metadata": {},
     "output_type": "execute_result"
    }
   ],
   "source": [
    "df.columns"
   ]
  },
  {
   "cell_type": "code",
   "execution_count": 10,
   "id": "15b210a7",
   "metadata": {},
   "outputs": [],
   "source": [
    "scale_data=pd.DataFrame(new_data)"
   ]
  },
  {
   "cell_type": "code",
   "execution_count": 11,
   "id": "0293df4f",
   "metadata": {},
   "outputs": [
    {
     "data": {
      "text/html": [
       "<div>\n",
       "<style scoped>\n",
       "    .dataframe tbody tr th:only-of-type {\n",
       "        vertical-align: middle;\n",
       "    }\n",
       "\n",
       "    .dataframe tbody tr th {\n",
       "        vertical-align: top;\n",
       "    }\n",
       "\n",
       "    .dataframe thead th {\n",
       "        text-align: right;\n",
       "    }\n",
       "</style>\n",
       "<table border=\"1\" class=\"dataframe\">\n",
       "  <thead>\n",
       "    <tr style=\"text-align: right;\">\n",
       "      <th></th>\n",
       "      <th>0</th>\n",
       "      <th>1</th>\n",
       "      <th>2</th>\n",
       "      <th>3</th>\n",
       "      <th>4</th>\n",
       "      <th>5</th>\n",
       "      <th>6</th>\n",
       "      <th>7</th>\n",
       "      <th>8</th>\n",
       "      <th>9</th>\n",
       "      <th>10</th>\n",
       "    </tr>\n",
       "  </thead>\n",
       "  <tbody>\n",
       "    <tr>\n",
       "      <th>0</th>\n",
       "      <td>-0.528360</td>\n",
       "      <td>0.961877</td>\n",
       "      <td>-1.391472</td>\n",
       "      <td>-0.453218</td>\n",
       "      <td>-0.243707</td>\n",
       "      <td>-0.466193</td>\n",
       "      <td>-0.379133</td>\n",
       "      <td>0.558274</td>\n",
       "      <td>1.288643</td>\n",
       "      <td>-0.579207</td>\n",
       "      <td>-0.960246</td>\n",
       "    </tr>\n",
       "    <tr>\n",
       "      <th>1</th>\n",
       "      <td>-0.298547</td>\n",
       "      <td>1.967442</td>\n",
       "      <td>-1.391472</td>\n",
       "      <td>0.043416</td>\n",
       "      <td>0.223875</td>\n",
       "      <td>0.872638</td>\n",
       "      <td>0.624363</td>\n",
       "      <td>0.028261</td>\n",
       "      <td>-0.719933</td>\n",
       "      <td>0.128950</td>\n",
       "      <td>-0.584777</td>\n",
       "    </tr>\n",
       "    <tr>\n",
       "      <th>2</th>\n",
       "      <td>-0.298547</td>\n",
       "      <td>1.297065</td>\n",
       "      <td>-1.186070</td>\n",
       "      <td>-0.169427</td>\n",
       "      <td>0.096353</td>\n",
       "      <td>-0.083669</td>\n",
       "      <td>0.229047</td>\n",
       "      <td>0.134264</td>\n",
       "      <td>-0.331177</td>\n",
       "      <td>-0.048089</td>\n",
       "      <td>-0.584777</td>\n",
       "    </tr>\n",
       "    <tr>\n",
       "      <th>3</th>\n",
       "      <td>1.654856</td>\n",
       "      <td>-1.384443</td>\n",
       "      <td>1.484154</td>\n",
       "      <td>-0.453218</td>\n",
       "      <td>-0.264960</td>\n",
       "      <td>0.107592</td>\n",
       "      <td>0.411500</td>\n",
       "      <td>0.664277</td>\n",
       "      <td>-0.979104</td>\n",
       "      <td>-0.461180</td>\n",
       "      <td>-0.584777</td>\n",
       "    </tr>\n",
       "    <tr>\n",
       "      <th>4</th>\n",
       "      <td>-0.528360</td>\n",
       "      <td>0.961877</td>\n",
       "      <td>-1.391472</td>\n",
       "      <td>-0.453218</td>\n",
       "      <td>-0.243707</td>\n",
       "      <td>-0.466193</td>\n",
       "      <td>-0.379133</td>\n",
       "      <td>0.558274</td>\n",
       "      <td>1.288643</td>\n",
       "      <td>-0.579207</td>\n",
       "      <td>-0.960246</td>\n",
       "    </tr>\n",
       "    <tr>\n",
       "      <th>...</th>\n",
       "      <td>...</td>\n",
       "      <td>...</td>\n",
       "      <td>...</td>\n",
       "      <td>...</td>\n",
       "      <td>...</td>\n",
       "      <td>...</td>\n",
       "      <td>...</td>\n",
       "      <td>...</td>\n",
       "      <td>...</td>\n",
       "      <td>...</td>\n",
       "      <td>...</td>\n",
       "    </tr>\n",
       "    <tr>\n",
       "      <th>1594</th>\n",
       "      <td>-1.217796</td>\n",
       "      <td>0.403229</td>\n",
       "      <td>-0.980669</td>\n",
       "      <td>-0.382271</td>\n",
       "      <td>0.053845</td>\n",
       "      <td>1.542054</td>\n",
       "      <td>-0.075043</td>\n",
       "      <td>-0.978765</td>\n",
       "      <td>0.899886</td>\n",
       "      <td>-0.461180</td>\n",
       "      <td>0.072294</td>\n",
       "    </tr>\n",
       "    <tr>\n",
       "      <th>1595</th>\n",
       "      <td>-1.390155</td>\n",
       "      <td>0.123905</td>\n",
       "      <td>-0.877968</td>\n",
       "      <td>-0.240375</td>\n",
       "      <td>-0.541259</td>\n",
       "      <td>2.211469</td>\n",
       "      <td>0.137820</td>\n",
       "      <td>-0.862162</td>\n",
       "      <td>1.353436</td>\n",
       "      <td>0.601055</td>\n",
       "      <td>0.729364</td>\n",
       "    </tr>\n",
       "    <tr>\n",
       "      <th>1596</th>\n",
       "      <td>-1.160343</td>\n",
       "      <td>-0.099554</td>\n",
       "      <td>-0.723916</td>\n",
       "      <td>-0.169427</td>\n",
       "      <td>-0.243707</td>\n",
       "      <td>1.255161</td>\n",
       "      <td>-0.196679</td>\n",
       "      <td>-0.533554</td>\n",
       "      <td>0.705508</td>\n",
       "      <td>0.542042</td>\n",
       "      <td>0.541630</td>\n",
       "    </tr>\n",
       "    <tr>\n",
       "      <th>1597</th>\n",
       "      <td>-1.390155</td>\n",
       "      <td>0.654620</td>\n",
       "      <td>-0.775267</td>\n",
       "      <td>-0.382271</td>\n",
       "      <td>-0.264960</td>\n",
       "      <td>1.542054</td>\n",
       "      <td>-0.075043</td>\n",
       "      <td>-0.676657</td>\n",
       "      <td>1.677400</td>\n",
       "      <td>0.305990</td>\n",
       "      <td>-0.209308</td>\n",
       "    </tr>\n",
       "    <tr>\n",
       "      <th>1598</th>\n",
       "      <td>-1.332702</td>\n",
       "      <td>-1.216849</td>\n",
       "      <td>1.021999</td>\n",
       "      <td>0.752894</td>\n",
       "      <td>-0.434990</td>\n",
       "      <td>0.203223</td>\n",
       "      <td>-0.135861</td>\n",
       "      <td>-0.666057</td>\n",
       "      <td>0.511130</td>\n",
       "      <td>0.010924</td>\n",
       "      <td>0.541630</td>\n",
       "    </tr>\n",
       "  </tbody>\n",
       "</table>\n",
       "<p>1599 rows × 11 columns</p>\n",
       "</div>"
      ],
      "text/plain": [
       "            0         1         2         3         4         5         6   \\\n",
       "0    -0.528360  0.961877 -1.391472 -0.453218 -0.243707 -0.466193 -0.379133   \n",
       "1    -0.298547  1.967442 -1.391472  0.043416  0.223875  0.872638  0.624363   \n",
       "2    -0.298547  1.297065 -1.186070 -0.169427  0.096353 -0.083669  0.229047   \n",
       "3     1.654856 -1.384443  1.484154 -0.453218 -0.264960  0.107592  0.411500   \n",
       "4    -0.528360  0.961877 -1.391472 -0.453218 -0.243707 -0.466193 -0.379133   \n",
       "...        ...       ...       ...       ...       ...       ...       ...   \n",
       "1594 -1.217796  0.403229 -0.980669 -0.382271  0.053845  1.542054 -0.075043   \n",
       "1595 -1.390155  0.123905 -0.877968 -0.240375 -0.541259  2.211469  0.137820   \n",
       "1596 -1.160343 -0.099554 -0.723916 -0.169427 -0.243707  1.255161 -0.196679   \n",
       "1597 -1.390155  0.654620 -0.775267 -0.382271 -0.264960  1.542054 -0.075043   \n",
       "1598 -1.332702 -1.216849  1.021999  0.752894 -0.434990  0.203223 -0.135861   \n",
       "\n",
       "            7         8         9         10  \n",
       "0     0.558274  1.288643 -0.579207 -0.960246  \n",
       "1     0.028261 -0.719933  0.128950 -0.584777  \n",
       "2     0.134264 -0.331177 -0.048089 -0.584777  \n",
       "3     0.664277 -0.979104 -0.461180 -0.584777  \n",
       "4     0.558274  1.288643 -0.579207 -0.960246  \n",
       "...        ...       ...       ...       ...  \n",
       "1594 -0.978765  0.899886 -0.461180  0.072294  \n",
       "1595 -0.862162  1.353436  0.601055  0.729364  \n",
       "1596 -0.533554  0.705508  0.542042  0.541630  \n",
       "1597 -0.676657  1.677400  0.305990 -0.209308  \n",
       "1598 -0.666057  0.511130  0.010924  0.541630  \n",
       "\n",
       "[1599 rows x 11 columns]"
      ]
     },
     "execution_count": 11,
     "metadata": {},
     "output_type": "execute_result"
    }
   ],
   "source": [
    "scale_data"
   ]
  },
  {
   "cell_type": "code",
   "execution_count": 12,
   "id": "e16ea6ec",
   "metadata": {},
   "outputs": [],
   "source": [
    "scale_data=pd.DataFrame(new_data, columns=['fixed acidity', 'volatile acidity', 'citric acid', 'residual sugar',\n",
    "       'chlorides', 'free sulfur dioxide', 'total sulfur dioxide', 'density',\n",
    "       'pH', 'sulphates', 'alcohol'])"
   ]
  },
  {
   "cell_type": "code",
   "execution_count": 13,
   "id": "16326c52",
   "metadata": {},
   "outputs": [
    {
     "data": {
      "text/html": [
       "<div>\n",
       "<style scoped>\n",
       "    .dataframe tbody tr th:only-of-type {\n",
       "        vertical-align: middle;\n",
       "    }\n",
       "\n",
       "    .dataframe tbody tr th {\n",
       "        vertical-align: top;\n",
       "    }\n",
       "\n",
       "    .dataframe thead th {\n",
       "        text-align: right;\n",
       "    }\n",
       "</style>\n",
       "<table border=\"1\" class=\"dataframe\">\n",
       "  <thead>\n",
       "    <tr style=\"text-align: right;\">\n",
       "      <th></th>\n",
       "      <th>fixed acidity</th>\n",
       "      <th>volatile acidity</th>\n",
       "      <th>citric acid</th>\n",
       "      <th>residual sugar</th>\n",
       "      <th>chlorides</th>\n",
       "      <th>free sulfur dioxide</th>\n",
       "      <th>total sulfur dioxide</th>\n",
       "      <th>density</th>\n",
       "      <th>pH</th>\n",
       "      <th>sulphates</th>\n",
       "      <th>alcohol</th>\n",
       "    </tr>\n",
       "  </thead>\n",
       "  <tbody>\n",
       "    <tr>\n",
       "      <th>0</th>\n",
       "      <td>-0.528360</td>\n",
       "      <td>0.961877</td>\n",
       "      <td>-1.391472</td>\n",
       "      <td>-0.453218</td>\n",
       "      <td>-0.243707</td>\n",
       "      <td>-0.466193</td>\n",
       "      <td>-0.379133</td>\n",
       "      <td>0.558274</td>\n",
       "      <td>1.288643</td>\n",
       "      <td>-0.579207</td>\n",
       "      <td>-0.960246</td>\n",
       "    </tr>\n",
       "    <tr>\n",
       "      <th>1</th>\n",
       "      <td>-0.298547</td>\n",
       "      <td>1.967442</td>\n",
       "      <td>-1.391472</td>\n",
       "      <td>0.043416</td>\n",
       "      <td>0.223875</td>\n",
       "      <td>0.872638</td>\n",
       "      <td>0.624363</td>\n",
       "      <td>0.028261</td>\n",
       "      <td>-0.719933</td>\n",
       "      <td>0.128950</td>\n",
       "      <td>-0.584777</td>\n",
       "    </tr>\n",
       "    <tr>\n",
       "      <th>2</th>\n",
       "      <td>-0.298547</td>\n",
       "      <td>1.297065</td>\n",
       "      <td>-1.186070</td>\n",
       "      <td>-0.169427</td>\n",
       "      <td>0.096353</td>\n",
       "      <td>-0.083669</td>\n",
       "      <td>0.229047</td>\n",
       "      <td>0.134264</td>\n",
       "      <td>-0.331177</td>\n",
       "      <td>-0.048089</td>\n",
       "      <td>-0.584777</td>\n",
       "    </tr>\n",
       "    <tr>\n",
       "      <th>3</th>\n",
       "      <td>1.654856</td>\n",
       "      <td>-1.384443</td>\n",
       "      <td>1.484154</td>\n",
       "      <td>-0.453218</td>\n",
       "      <td>-0.264960</td>\n",
       "      <td>0.107592</td>\n",
       "      <td>0.411500</td>\n",
       "      <td>0.664277</td>\n",
       "      <td>-0.979104</td>\n",
       "      <td>-0.461180</td>\n",
       "      <td>-0.584777</td>\n",
       "    </tr>\n",
       "    <tr>\n",
       "      <th>4</th>\n",
       "      <td>-0.528360</td>\n",
       "      <td>0.961877</td>\n",
       "      <td>-1.391472</td>\n",
       "      <td>-0.453218</td>\n",
       "      <td>-0.243707</td>\n",
       "      <td>-0.466193</td>\n",
       "      <td>-0.379133</td>\n",
       "      <td>0.558274</td>\n",
       "      <td>1.288643</td>\n",
       "      <td>-0.579207</td>\n",
       "      <td>-0.960246</td>\n",
       "    </tr>\n",
       "    <tr>\n",
       "      <th>...</th>\n",
       "      <td>...</td>\n",
       "      <td>...</td>\n",
       "      <td>...</td>\n",
       "      <td>...</td>\n",
       "      <td>...</td>\n",
       "      <td>...</td>\n",
       "      <td>...</td>\n",
       "      <td>...</td>\n",
       "      <td>...</td>\n",
       "      <td>...</td>\n",
       "      <td>...</td>\n",
       "    </tr>\n",
       "    <tr>\n",
       "      <th>1594</th>\n",
       "      <td>-1.217796</td>\n",
       "      <td>0.403229</td>\n",
       "      <td>-0.980669</td>\n",
       "      <td>-0.382271</td>\n",
       "      <td>0.053845</td>\n",
       "      <td>1.542054</td>\n",
       "      <td>-0.075043</td>\n",
       "      <td>-0.978765</td>\n",
       "      <td>0.899886</td>\n",
       "      <td>-0.461180</td>\n",
       "      <td>0.072294</td>\n",
       "    </tr>\n",
       "    <tr>\n",
       "      <th>1595</th>\n",
       "      <td>-1.390155</td>\n",
       "      <td>0.123905</td>\n",
       "      <td>-0.877968</td>\n",
       "      <td>-0.240375</td>\n",
       "      <td>-0.541259</td>\n",
       "      <td>2.211469</td>\n",
       "      <td>0.137820</td>\n",
       "      <td>-0.862162</td>\n",
       "      <td>1.353436</td>\n",
       "      <td>0.601055</td>\n",
       "      <td>0.729364</td>\n",
       "    </tr>\n",
       "    <tr>\n",
       "      <th>1596</th>\n",
       "      <td>-1.160343</td>\n",
       "      <td>-0.099554</td>\n",
       "      <td>-0.723916</td>\n",
       "      <td>-0.169427</td>\n",
       "      <td>-0.243707</td>\n",
       "      <td>1.255161</td>\n",
       "      <td>-0.196679</td>\n",
       "      <td>-0.533554</td>\n",
       "      <td>0.705508</td>\n",
       "      <td>0.542042</td>\n",
       "      <td>0.541630</td>\n",
       "    </tr>\n",
       "    <tr>\n",
       "      <th>1597</th>\n",
       "      <td>-1.390155</td>\n",
       "      <td>0.654620</td>\n",
       "      <td>-0.775267</td>\n",
       "      <td>-0.382271</td>\n",
       "      <td>-0.264960</td>\n",
       "      <td>1.542054</td>\n",
       "      <td>-0.075043</td>\n",
       "      <td>-0.676657</td>\n",
       "      <td>1.677400</td>\n",
       "      <td>0.305990</td>\n",
       "      <td>-0.209308</td>\n",
       "    </tr>\n",
       "    <tr>\n",
       "      <th>1598</th>\n",
       "      <td>-1.332702</td>\n",
       "      <td>-1.216849</td>\n",
       "      <td>1.021999</td>\n",
       "      <td>0.752894</td>\n",
       "      <td>-0.434990</td>\n",
       "      <td>0.203223</td>\n",
       "      <td>-0.135861</td>\n",
       "      <td>-0.666057</td>\n",
       "      <td>0.511130</td>\n",
       "      <td>0.010924</td>\n",
       "      <td>0.541630</td>\n",
       "    </tr>\n",
       "  </tbody>\n",
       "</table>\n",
       "<p>1599 rows × 11 columns</p>\n",
       "</div>"
      ],
      "text/plain": [
       "      fixed acidity  volatile acidity  citric acid  residual sugar  chlorides  \\\n",
       "0         -0.528360          0.961877    -1.391472       -0.453218  -0.243707   \n",
       "1         -0.298547          1.967442    -1.391472        0.043416   0.223875   \n",
       "2         -0.298547          1.297065    -1.186070       -0.169427   0.096353   \n",
       "3          1.654856         -1.384443     1.484154       -0.453218  -0.264960   \n",
       "4         -0.528360          0.961877    -1.391472       -0.453218  -0.243707   \n",
       "...             ...               ...          ...             ...        ...   \n",
       "1594      -1.217796          0.403229    -0.980669       -0.382271   0.053845   \n",
       "1595      -1.390155          0.123905    -0.877968       -0.240375  -0.541259   \n",
       "1596      -1.160343         -0.099554    -0.723916       -0.169427  -0.243707   \n",
       "1597      -1.390155          0.654620    -0.775267       -0.382271  -0.264960   \n",
       "1598      -1.332702         -1.216849     1.021999        0.752894  -0.434990   \n",
       "\n",
       "      free sulfur dioxide  total sulfur dioxide   density        pH  \\\n",
       "0               -0.466193             -0.379133  0.558274  1.288643   \n",
       "1                0.872638              0.624363  0.028261 -0.719933   \n",
       "2               -0.083669              0.229047  0.134264 -0.331177   \n",
       "3                0.107592              0.411500  0.664277 -0.979104   \n",
       "4               -0.466193             -0.379133  0.558274  1.288643   \n",
       "...                   ...                   ...       ...       ...   \n",
       "1594             1.542054             -0.075043 -0.978765  0.899886   \n",
       "1595             2.211469              0.137820 -0.862162  1.353436   \n",
       "1596             1.255161             -0.196679 -0.533554  0.705508   \n",
       "1597             1.542054             -0.075043 -0.676657  1.677400   \n",
       "1598             0.203223             -0.135861 -0.666057  0.511130   \n",
       "\n",
       "      sulphates   alcohol  \n",
       "0     -0.579207 -0.960246  \n",
       "1      0.128950 -0.584777  \n",
       "2     -0.048089 -0.584777  \n",
       "3     -0.461180 -0.584777  \n",
       "4     -0.579207 -0.960246  \n",
       "...         ...       ...  \n",
       "1594  -0.461180  0.072294  \n",
       "1595   0.601055  0.729364  \n",
       "1596   0.542042  0.541630  \n",
       "1597   0.305990 -0.209308  \n",
       "1598   0.010924  0.541630  \n",
       "\n",
       "[1599 rows x 11 columns]"
      ]
     },
     "execution_count": 13,
     "metadata": {},
     "output_type": "execute_result"
    }
   ],
   "source": [
    "scale_data"
   ]
  },
  {
   "cell_type": "code",
   "execution_count": 14,
   "id": "bcff615a",
   "metadata": {},
   "outputs": [
    {
     "data": {
      "application/vnd.jupyter.widget-view+json": {
       "model_id": "5854eaf2a68e4f149c7b33bc13f5801a",
       "version_major": 2,
       "version_minor": 0
      },
      "text/plain": [
       "Summarize dataset:   0%|          | 0/5 [00:00<?, ?it/s]"
      ]
     },
     "metadata": {},
     "output_type": "display_data"
    },
    {
     "data": {
      "application/vnd.jupyter.widget-view+json": {
       "model_id": "cf7dcbfaec14419abb82aa2d9d0e4f84",
       "version_major": 2,
       "version_minor": 0
      },
      "text/plain": [
       "Generate report structure:   0%|          | 0/1 [00:00<?, ?it/s]"
      ]
     },
     "metadata": {},
     "output_type": "display_data"
    },
    {
     "data": {
      "application/vnd.jupyter.widget-view+json": {
       "model_id": "",
       "version_major": 2,
       "version_minor": 0
      },
      "text/plain": [
       "Render widgets:   0%|          | 0/1 [00:00<?, ?it/s]"
      ]
     },
     "metadata": {},
     "output_type": "display_data"
    },
    {
     "data": {
      "application/vnd.jupyter.widget-view+json": {
       "model_id": "828e2c5e6aef49cc902688baa589bd61",
       "version_major": 2,
       "version_minor": 0
      },
      "text/plain": [
       "VBox(children=(Tab(children=(Tab(children=(GridBox(children=(VBox(children=(GridspecLayout(children=(HTML(valu…"
      ]
     },
     "metadata": {},
     "output_type": "display_data"
    }
   ],
   "source": [
    "from pandas_profiling import ProfileReport\n",
    "profile = ProfileReport(scale_data, title=\"pandas profiling Report\")\n",
    "profile.to_widgets()"
   ]
  },
  {
   "cell_type": "code",
   "execution_count": 15,
   "id": "06e0a207",
   "metadata": {},
   "outputs": [],
   "source": [
    "from sklearn.preprocessing import RobustScaler\n",
    "transform = RobustScaler()\n",
    "transform_data= transform.fit_transform(df.drop(labels=['quality'], axis = 1))"
   ]
  },
  {
   "cell_type": "code",
   "execution_count": 16,
   "id": "0b038afb",
   "metadata": {},
   "outputs": [
    {
     "data": {
      "text/plain": [
       "array([[-0.23809524,  0.72      , -0.78787879, ...,  1.05263158,\n",
       "        -0.33333333, -0.5       ],\n",
       "       [-0.04761905,  1.44      , -0.78787879, ..., -0.57894737,\n",
       "         0.33333333, -0.25      ],\n",
       "       [-0.04761905,  0.96      , -0.66666667, ..., -0.26315789,\n",
       "         0.16666667, -0.25      ],\n",
       "       ...,\n",
       "       [-0.76190476, -0.04      , -0.39393939, ...,  0.57894737,\n",
       "         0.72222222,  0.5       ],\n",
       "       [-0.95238095,  0.5       , -0.42424242, ...,  1.36842105,\n",
       "         0.5       ,  0.        ],\n",
       "       [-0.9047619 , -0.84      ,  0.63636364, ...,  0.42105263,\n",
       "         0.22222222,  0.5       ]])"
      ]
     },
     "execution_count": 16,
     "metadata": {},
     "output_type": "execute_result"
    }
   ],
   "source": [
    "transform_data"
   ]
  },
  {
   "cell_type": "code",
   "execution_count": 17,
   "id": "70891d43",
   "metadata": {},
   "outputs": [],
   "source": [
    "transf_df = pd.DataFrame(transform_data, columns=['fixed acidity', 'volatile acidity', 'citric acid', 'residual sugar',\n",
    "       'chlorides', 'free sulfur dioxide', 'total sulfur dioxide', 'density',\n",
    "       'pH', 'sulphates', 'alcohol'])"
   ]
  },
  {
   "cell_type": "code",
   "execution_count": 18,
   "id": "4e2eb3fe",
   "metadata": {},
   "outputs": [
    {
     "data": {
      "application/vnd.jupyter.widget-view+json": {
       "model_id": "fac103994da546babbc610739c729515",
       "version_major": 2,
       "version_minor": 0
      },
      "text/plain": [
       "Summarize dataset:   0%|          | 0/5 [00:00<?, ?it/s]"
      ]
     },
     "metadata": {},
     "output_type": "display_data"
    },
    {
     "data": {
      "application/vnd.jupyter.widget-view+json": {
       "model_id": "4cf9950570bb4e0090204e3e70f45661",
       "version_major": 2,
       "version_minor": 0
      },
      "text/plain": [
       "Generate report structure:   0%|          | 0/1 [00:00<?, ?it/s]"
      ]
     },
     "metadata": {},
     "output_type": "display_data"
    },
    {
     "data": {
      "application/vnd.jupyter.widget-view+json": {
       "model_id": "",
       "version_major": 2,
       "version_minor": 0
      },
      "text/plain": [
       "Render widgets:   0%|          | 0/1 [00:00<?, ?it/s]"
      ]
     },
     "metadata": {},
     "output_type": "display_data"
    },
    {
     "data": {
      "application/vnd.jupyter.widget-view+json": {
       "model_id": "65d506e8daf8435592563fc6e6eb49c1",
       "version_major": 2,
       "version_minor": 0
      },
      "text/plain": [
       "VBox(children=(Tab(children=(Tab(children=(GridBox(children=(VBox(children=(GridspecLayout(children=(HTML(valu…"
      ]
     },
     "metadata": {},
     "output_type": "display_data"
    }
   ],
   "source": [
    "from pandas_profiling import ProfileReport\n",
    "profile = ProfileReport(transf_df, title = \"pandas profile report\")\n",
    "profile.to_widgets()"
   ]
  },
  {
   "cell_type": "code",
   "execution_count": 19,
   "id": "1a15e0db",
   "metadata": {},
   "outputs": [],
   "source": [
    "x = scale_data\n",
    "y = df[\"quality\"]"
   ]
  },
  {
   "cell_type": "code",
   "execution_count": 20,
   "id": "506706ee",
   "metadata": {},
   "outputs": [],
   "source": [
    "from sklearn.model_selection import train_test_split\n",
    "train_x,test_x,train_y,test_y=train_test_split(x,y,test_size=0.33, random_state = 1)"
   ]
  },
  {
   "cell_type": "code",
   "execution_count": 21,
   "id": "857ddf7f",
   "metadata": {},
   "outputs": [],
   "source": [
    "from sklearn.svm import SVC"
   ]
  },
  {
   "cell_type": "code",
   "execution_count": 22,
   "id": "2000058c",
   "metadata": {},
   "outputs": [
    {
     "data": {
      "text/plain": [
       "SVC()"
      ]
     },
     "execution_count": 22,
     "metadata": {},
     "output_type": "execute_result"
    }
   ],
   "source": [
    "model=SVC()\n",
    "model.fit(train_x, train_y)"
   ]
  },
  {
   "cell_type": "code",
   "execution_count": 23,
   "id": "81c02386",
   "metadata": {},
   "outputs": [
    {
     "data": {
      "text/plain": [
       "array([5, 5, 6, 6, 6, 6, 6, 5, 6, 5, 6, 5, 5, 7, 6, 5, 6, 5, 6, 5, 5, 6,\n",
       "       5, 6, 5, 6, 6, 6, 5, 7, 6, 7, 5, 7, 5, 5, 5, 5, 7, 5, 6, 5, 5, 6,\n",
       "       5, 6, 5, 5, 5, 6, 5, 5, 6, 5, 5, 6, 6, 6, 6, 5, 6, 5, 5, 5, 5, 5,\n",
       "       7, 6, 6, 7, 5, 6, 5, 6, 5, 5, 6, 5, 5, 6, 6, 5, 5, 5, 6, 5, 5, 6,\n",
       "       5, 6, 5, 6, 5, 6, 6, 5, 6, 6, 6, 6, 6, 5, 5, 5, 5, 5, 6, 6, 6, 5,\n",
       "       6, 6, 6, 6, 5, 7, 5, 5, 5, 5, 5, 7, 6, 5, 5, 6, 6, 5, 7, 6, 5, 5,\n",
       "       6, 5, 6, 6, 5, 6, 5, 5, 5, 6, 5, 5, 6, 6, 5, 5, 6, 6, 5, 7, 5, 5,\n",
       "       6, 6, 6, 6, 6, 6, 6, 5, 5, 5, 6, 6, 5, 5, 5, 6, 5, 6, 5, 5, 6, 5,\n",
       "       5, 5, 5, 5, 6, 6, 6, 5, 6, 6, 6, 5, 5, 5, 5, 5, 5, 5, 6, 5, 6, 5,\n",
       "       5, 5, 6, 5, 6, 5, 7, 6, 5, 5, 6, 6, 5, 6, 5, 6, 5, 5, 5, 5, 6, 6,\n",
       "       6, 5, 5, 5, 6, 6, 5, 6, 7, 5, 5, 5, 6, 6, 5, 5, 6, 5, 5, 5, 6, 6,\n",
       "       6, 5, 5, 7, 5, 5, 5, 5, 5, 5, 6, 6, 6, 5, 5, 5, 5, 6, 6, 5, 6, 5,\n",
       "       5, 6, 6, 5, 5, 6, 5, 6, 5, 7, 5, 6, 6, 6, 5, 5, 6, 5, 6, 5, 5, 6,\n",
       "       5, 5, 5, 6, 5, 6, 6, 6, 6, 6, 5, 6, 5, 5, 6, 6, 5, 6, 5, 6, 5, 6,\n",
       "       6, 5, 5, 6, 6, 5, 6, 6, 5, 5, 6, 6, 5, 5, 7, 5, 5, 5, 5, 7, 6, 6,\n",
       "       7, 5, 5, 5, 6, 5, 6, 6, 5, 6, 5, 5, 6, 6, 5, 7, 6, 5, 5, 5, 6, 7,\n",
       "       6, 7, 5, 5, 7, 7, 5, 5, 5, 6, 5, 6, 5, 5, 5, 5, 6, 5, 6, 6, 5, 5,\n",
       "       5, 6, 7, 7, 5, 6, 6, 6, 6, 6, 5, 6, 5, 6, 6, 5, 5, 5, 5, 6, 5, 6,\n",
       "       5, 6, 5, 5, 6, 5, 6, 5, 6, 6, 5, 6, 5, 6, 6, 5, 6, 5, 5, 5, 5, 6,\n",
       "       5, 5, 5, 6, 6, 6, 5, 6, 7, 5, 5, 6, 5, 5, 5, 5, 5, 5, 6, 5, 6, 6,\n",
       "       6, 6, 6, 6, 5, 5, 5, 5, 6, 5, 5, 5, 6, 6, 5, 5, 7, 5, 6, 5, 5, 5,\n",
       "       5, 5, 5, 5, 5, 6, 6, 7, 6, 6, 6, 7, 6, 6, 6, 5, 6, 6, 5, 5, 5, 5,\n",
       "       5, 7, 6, 5, 5, 5, 5, 5, 5, 5, 6, 6, 6, 6, 6, 7, 5, 6, 6, 7, 5, 6,\n",
       "       5, 5, 6, 6, 6, 6, 5, 6, 5, 6, 7, 5, 7, 5, 6, 6, 5, 5, 6, 6, 6, 6],\n",
       "      dtype=int64)"
      ]
     },
     "execution_count": 23,
     "metadata": {},
     "output_type": "execute_result"
    }
   ],
   "source": [
    "model.predict(test_x)"
   ]
  },
  {
   "cell_type": "code",
   "execution_count": 24,
   "id": "6350e1ce",
   "metadata": {},
   "outputs": [],
   "source": [
    "from sklearn.metrics import accuracy_score"
   ]
  },
  {
   "cell_type": "code",
   "execution_count": 25,
   "id": "40874706",
   "metadata": {},
   "outputs": [
    {
     "data": {
      "text/plain": [
       "0.6003787878787878"
      ]
     },
     "execution_count": 25,
     "metadata": {},
     "output_type": "execute_result"
    }
   ],
   "source": [
    "accuracy_score(test_y, model.predict(test_x))"
   ]
  },
  {
   "cell_type": "code",
   "execution_count": 26,
   "id": "e459880c",
   "metadata": {},
   "outputs": [],
   "source": [
    "from sklearn.model_selection import GridSearchCV"
   ]
  },
  {
   "cell_type": "code",
   "execution_count": 30,
   "id": "c4d5f41b",
   "metadata": {},
   "outputs": [
    {
     "name": "stdout",
     "output_type": "stream",
     "text": [
      "ERROR! Session/line number was not unique in database. History logging moved to new session 215\n"
     ]
    }
   ],
   "source": [
    "param_grid={'C':[0.1,1,10,50,100,500], 'gamma':[1,0.5,0.1,0.01,0.001]}"
   ]
  },
  {
   "cell_type": "code",
   "execution_count": 31,
   "id": "d0d91589",
   "metadata": {},
   "outputs": [],
   "source": [
    "grid=GridSearchCV(SVC(),param_grid, verbose=3, n_jobs=-1)"
   ]
  },
  {
   "cell_type": "code",
   "execution_count": 32,
   "id": "8fb933a6",
   "metadata": {},
   "outputs": [
    {
     "name": "stdout",
     "output_type": "stream",
     "text": [
      "Fitting 5 folds for each of 30 candidates, totalling 150 fits\n"
     ]
    },
    {
     "data": {
      "text/plain": [
       "GridSearchCV(estimator=SVC(), n_jobs=-1,\n",
       "             param_grid={'C': [0.1, 1, 10, 50, 100, 500],\n",
       "                         'gamma': [1, 0.5, 0.1, 0.01, 0.001]},\n",
       "             verbose=3)"
      ]
     },
     "execution_count": 32,
     "metadata": {},
     "output_type": "execute_result"
    }
   ],
   "source": [
    "grid.fit(train_x, train_y)"
   ]
  },
  {
   "cell_type": "code",
   "execution_count": 33,
   "id": "a3d2e4b0",
   "metadata": {},
   "outputs": [
    {
     "data": {
      "text/plain": [
       "{'C': 1, 'gamma': 0.5}"
      ]
     },
     "execution_count": 33,
     "metadata": {},
     "output_type": "execute_result"
    }
   ],
   "source": [
    "grid.best_params_"
   ]
  },
  {
   "cell_type": "code",
   "execution_count": 34,
   "id": "269efc44",
   "metadata": {},
   "outputs": [
    {
     "data": {
      "text/plain": [
       "SVC(C=1, gamma=0.5)"
      ]
     },
     "execution_count": 34,
     "metadata": {},
     "output_type": "execute_result"
    }
   ],
   "source": [
    "model_grid=SVC(C=1, gamma = 0.5)\n",
    "model_grid.fit(train_x, train_y)"
   ]
  },
  {
   "cell_type": "code",
   "execution_count": 35,
   "id": "e6b786fa",
   "metadata": {},
   "outputs": [
    {
     "data": {
      "text/plain": [
       "array([5, 5, 6, 6, 6, 6, 6, 5, 6, 5, 6, 5, 6, 6, 6, 5, 6, 5, 6, 5, 6, 6,\n",
       "       5, 6, 5, 6, 6, 5, 5, 7, 6, 7, 5, 7, 5, 6, 5, 6, 6, 5, 6, 5, 5, 6,\n",
       "       5, 6, 5, 6, 5, 6, 5, 5, 6, 5, 5, 6, 6, 6, 5, 5, 5, 5, 5, 5, 5, 6,\n",
       "       5, 6, 6, 6, 5, 6, 6, 6, 5, 5, 6, 5, 5, 6, 6, 5, 5, 6, 6, 5, 5, 7,\n",
       "       5, 6, 5, 7, 5, 7, 6, 5, 6, 6, 6, 6, 6, 5, 6, 5, 5, 6, 6, 6, 6, 5,\n",
       "       6, 5, 5, 6, 5, 7, 5, 5, 5, 5, 5, 7, 6, 5, 5, 5, 6, 5, 6, 6, 5, 5,\n",
       "       6, 5, 6, 6, 5, 6, 5, 6, 5, 6, 5, 5, 6, 6, 5, 5, 6, 6, 5, 7, 5, 5,\n",
       "       6, 7, 7, 6, 6, 6, 7, 5, 5, 5, 6, 6, 6, 5, 5, 6, 6, 6, 5, 5, 6, 5,\n",
       "       5, 5, 5, 5, 6, 6, 6, 5, 6, 6, 6, 5, 5, 5, 5, 6, 6, 5, 6, 6, 6, 5,\n",
       "       5, 5, 6, 5, 7, 5, 7, 6, 5, 5, 6, 6, 5, 5, 6, 6, 5, 5, 5, 5, 6, 6,\n",
       "       5, 5, 5, 5, 6, 6, 5, 6, 7, 5, 6, 6, 7, 6, 5, 5, 6, 5, 5, 5, 6, 6,\n",
       "       7, 6, 5, 7, 5, 5, 5, 5, 5, 5, 6, 6, 6, 5, 5, 5, 5, 6, 6, 5, 6, 5,\n",
       "       5, 6, 6, 5, 5, 6, 5, 6, 5, 7, 5, 5, 6, 6, 5, 6, 6, 5, 5, 5, 5, 6,\n",
       "       5, 5, 5, 6, 5, 6, 6, 6, 6, 6, 5, 7, 5, 5, 5, 5, 5, 6, 5, 6, 5, 6,\n",
       "       5, 5, 5, 5, 6, 5, 6, 6, 5, 5, 6, 6, 5, 5, 6, 5, 6, 5, 5, 7, 6, 6,\n",
       "       5, 5, 5, 6, 6, 5, 7, 6, 6, 6, 5, 5, 5, 6, 6, 7, 6, 5, 5, 5, 5, 7,\n",
       "       6, 7, 5, 5, 7, 6, 5, 5, 5, 6, 5, 6, 5, 5, 5, 5, 6, 5, 5, 6, 5, 5,\n",
       "       5, 5, 7, 7, 5, 7, 6, 5, 6, 6, 5, 7, 5, 6, 6, 5, 5, 5, 5, 6, 5, 5,\n",
       "       5, 7, 6, 5, 6, 5, 6, 5, 6, 6, 5, 6, 5, 6, 5, 5, 6, 5, 5, 5, 5, 7,\n",
       "       6, 5, 6, 6, 6, 5, 5, 5, 7, 6, 5, 6, 5, 5, 5, 5, 5, 5, 6, 6, 6, 6,\n",
       "       6, 6, 6, 7, 5, 5, 5, 5, 6, 6, 5, 5, 6, 5, 6, 5, 7, 6, 6, 5, 5, 5,\n",
       "       5, 5, 6, 6, 5, 6, 6, 7, 6, 6, 6, 7, 5, 6, 6, 5, 6, 6, 5, 5, 5, 5,\n",
       "       5, 7, 6, 5, 5, 6, 5, 5, 5, 5, 6, 6, 6, 5, 6, 6, 5, 6, 6, 7, 5, 6,\n",
       "       5, 5, 6, 7, 6, 7, 5, 6, 5, 6, 7, 5, 7, 5, 7, 6, 5, 5, 5, 5, 6, 6],\n",
       "      dtype=int64)"
      ]
     },
     "execution_count": 35,
     "metadata": {},
     "output_type": "execute_result"
    }
   ],
   "source": [
    "model_grid.predict(test_x)"
   ]
  },
  {
   "cell_type": "code",
   "execution_count": 36,
   "id": "b510909b",
   "metadata": {},
   "outputs": [
    {
     "data": {
      "text/plain": [
       "0.6268939393939394"
      ]
     },
     "execution_count": 36,
     "metadata": {},
     "output_type": "execute_result"
    }
   ],
   "source": [
    "accuracy_score(test_y, model_grid.predict(test_x))"
   ]
  },
  {
   "cell_type": "code",
   "execution_count": null,
   "id": "82fcc41e",
   "metadata": {},
   "outputs": [],
   "source": []
  }
 ],
 "metadata": {
  "kernelspec": {
   "display_name": "Python 3 (ipykernel)",
   "language": "python",
   "name": "python3"
  },
  "language_info": {
   "codemirror_mode": {
    "name": "ipython",
    "version": 3
   },
   "file_extension": ".py",
   "mimetype": "text/x-python",
   "name": "python",
   "nbconvert_exporter": "python",
   "pygments_lexer": "ipython3",
   "version": "3.9.4"
  }
 },
 "nbformat": 4,
 "nbformat_minor": 5
}
